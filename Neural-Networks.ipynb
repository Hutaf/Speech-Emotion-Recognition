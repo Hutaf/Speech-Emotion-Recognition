{
  "nbformat": 4,
  "nbformat_minor": 0,
  "metadata": {
    "colab": {
      "name": "NN.ipynb",
      "provenance": [],
      "collapsed_sections": []
    },
    "kernelspec": {
      "name": "python3",
      "display_name": "Python 3"
    }
  },
  "cells": [
    {
      "cell_type": "markdown",
      "metadata": {
        "id": "SKNo9RTBj1hA"
      },
      "source": [
        "#**Speech Emotion Recognition**\n",
        "## Neural Networks\n",
        "\n"
      ]
    },
    {
      "cell_type": "markdown",
      "metadata": {
        "id": "AztUA74EerMQ"
      },
      "source": [
        "## Dataset\n",
        "### The Ryerson Audio-Visual Database of Emotional Speech and Song (RAVDESS) \n",
        "\n",
        "\n",
        "---\n",
        "\n",
        "##### This portion of the RAVDESS contains 1440 files: 60 trials per actor x 24 actors = 1440. The RAVDESS contains 24 professional actors (12 female, 12 male), vocalizing two lexically-matched statements in a neutral North American accent. Speech emotions includes calm, happy, sad, angry, fearful, surprise, and disgust expressions. Each expression is produced at two levels of emotional intensity (normal, strong), with an additional neutral expression. So for convenience, here's the filename identifiers as per the official RAVDESS website:\n",
        "* Modality (01 = full-AV, 02 = video-only, 03 = audio-only).\n",
        "* Vocal channel (01 = speech, 02 = song).\n",
        "* Emotion (01 = neutral, 02 = calm, 03 = happy, 04 = sad, 05 = angry, 06 =  \n",
        "* fearful, 07 = disgust, 08 = surprised).\n",
        "* Emotional intensity (01 = normal, 02 = strong). NOTE: There is no strong intensity for the 'neutral' emotion.\n",
        "* Statement (01 = \"Kids are talking by the door\", 02 = \"Dogs are sitting by the door\").\n",
        "* Repetition (01 = 1st repetition, 02 = 2nd repetition).\n",
        "* Actor (01 to 24. Odd numbered actors are male, even numbered actors are female).\n",
        "\n",
        "---\n",
        "\n"
      ]
    },
    {
      "cell_type": "markdown",
      "metadata": {
        "id": "nrH14Ttlo2EL"
      },
      "source": [
        "# Install following libraries"
      ]
    },
    {
      "cell_type": "code",
      "metadata": {
        "id": "spdyH1iXo5lB",
        "colab": {
          "base_uri": "https://localhost:8080/"
        },
        "outputId": "721f7913-7b55-42b0-a24a-1144bd1ee812"
      },
      "source": [
        "!pip install librosa  \n",
        "!pip install soundfile\n",
        "!pip install pyaudio"
      ],
      "execution_count": 1,
      "outputs": [
        {
          "output_type": "stream",
          "text": [
            "Requirement already satisfied: librosa in /usr/local/lib/python3.6/dist-packages (0.6.3)\n",
            "Requirement already satisfied: audioread>=2.0.0 in /usr/local/lib/python3.6/dist-packages (from librosa) (2.1.9)\n",
            "Requirement already satisfied: six>=1.3 in /usr/local/lib/python3.6/dist-packages (from librosa) (1.15.0)\n",
            "Requirement already satisfied: numba>=0.38.0 in /usr/local/lib/python3.6/dist-packages (from librosa) (0.48.0)\n",
            "Requirement already satisfied: numpy>=1.8.0 in /usr/local/lib/python3.6/dist-packages (from librosa) (1.18.5)\n",
            "Requirement already satisfied: joblib>=0.12 in /usr/local/lib/python3.6/dist-packages (from librosa) (0.17.0)\n",
            "Requirement already satisfied: decorator>=3.0.0 in /usr/local/lib/python3.6/dist-packages (from librosa) (4.4.2)\n",
            "Requirement already satisfied: resampy>=0.2.0 in /usr/local/lib/python3.6/dist-packages (from librosa) (0.2.2)\n",
            "Requirement already satisfied: scikit-learn!=0.19.0,>=0.14.0 in /usr/local/lib/python3.6/dist-packages (from librosa) (0.22.2.post1)\n",
            "Requirement already satisfied: scipy>=1.0.0 in /usr/local/lib/python3.6/dist-packages (from librosa) (1.4.1)\n",
            "Requirement already satisfied: setuptools in /usr/local/lib/python3.6/dist-packages (from numba>=0.38.0->librosa) (50.3.2)\n",
            "Requirement already satisfied: llvmlite<0.32.0,>=0.31.0dev0 in /usr/local/lib/python3.6/dist-packages (from numba>=0.38.0->librosa) (0.31.0)\n",
            "Requirement already satisfied: soundfile in /usr/local/lib/python3.6/dist-packages (0.10.3.post1)\n",
            "Requirement already satisfied: cffi>=1.0 in /usr/local/lib/python3.6/dist-packages (from soundfile) (1.14.3)\n",
            "Requirement already satisfied: pycparser in /usr/local/lib/python3.6/dist-packages (from cffi>=1.0->soundfile) (2.20)\n",
            "Collecting pyaudio\n",
            "  Using cached https://files.pythonhosted.org/packages/ab/42/b4f04721c5c5bfc196ce156b3c768998ef8c0ae3654ed29ea5020c749a6b/PyAudio-0.2.11.tar.gz\n",
            "Building wheels for collected packages: pyaudio\n",
            "  Building wheel for pyaudio (setup.py) ... \u001b[?25lerror\n",
            "\u001b[31m  ERROR: Failed building wheel for pyaudio\u001b[0m\n",
            "\u001b[?25h  Running setup.py clean for pyaudio\n",
            "Failed to build pyaudio\n",
            "Installing collected packages: pyaudio\n",
            "    Running setup.py install for pyaudio ... \u001b[?25l\u001b[?25herror\n",
            "\u001b[31mERROR: Command errored out with exit status 1: /usr/bin/python3 -u -c 'import sys, setuptools, tokenize; sys.argv[0] = '\"'\"'/tmp/pip-install-_mmdffee/pyaudio/setup.py'\"'\"'; __file__='\"'\"'/tmp/pip-install-_mmdffee/pyaudio/setup.py'\"'\"';f=getattr(tokenize, '\"'\"'open'\"'\"', open)(__file__);code=f.read().replace('\"'\"'\\r\\n'\"'\"', '\"'\"'\\n'\"'\"');f.close();exec(compile(code, __file__, '\"'\"'exec'\"'\"'))' install --record /tmp/pip-record-b990fetd/install-record.txt --single-version-externally-managed --compile Check the logs for full command output.\u001b[0m\n"
          ],
          "name": "stdout"
        }
      ]
    },
    {
      "cell_type": "markdown",
      "metadata": {
        "id": "tqlY-_LUpD3l"
      },
      "source": [
        "# Import libraries "
      ]
    },
    {
      "cell_type": "code",
      "metadata": {
        "id": "3fyYSbcJjy7i"
      },
      "source": [
        "import librosa\n",
        "import librosa.display\n",
        "import soundfile\n",
        "import os, glob, pickle\n",
        "import numpy as np\n",
        "import pandas as pd\n",
        "import IPython.display as ipd \n",
        "\n",
        "from matplotlib.pyplot import specgram\n",
        "import matplotlib.pyplot as plt\n",
        "import seaborn as sns\n",
        "\n",
        "from sklearn.model_selection import train_test_split\n",
        "from sklearn.metrics import accuracy_score\n",
        "from sklearn.metrics import classification_report\n",
        "from sklearn.metrics import confusion_matrix\n",
        "from sklearn.preprocessing import LabelEncoder, StandardScaler\n",
        "\n",
        "import keras\n",
        "import numpy as np\n",
        "import matplotlib.pyplot as plt\n",
        "import tensorflow as tf\n",
        "from keras.preprocessing import sequence\n",
        "from keras.models import Sequential\n",
        "from keras.layers import Dense, Embedding, Input, Permute\n",
        "from keras.utils import to_categorical\n",
        "from keras.layers import Flatten, Dropout, Activation, BatchNormalization, Reshape, concatenate\n",
        "from keras.layers import Conv1D, MaxPooling1D, Conv2D, MaxPooling2D, GlobalAveragePooling1D, LSTM, GlobalMaxPooling1D\n",
        "from keras.models import Model\n",
        "from keras.callbacks import EarlyStopping\n",
        "\n",
        "import warnings\n",
        "warnings.filterwarnings(\"ignore\", category=DeprecationWarning) "
      ],
      "execution_count": 56,
      "outputs": []
    },
    {
      "cell_type": "markdown",
      "metadata": {
        "id": "Vsv9o5fwAc2q"
      },
      "source": [
        "## Mount Drive"
      ]
    },
    {
      "cell_type": "code",
      "metadata": {
        "colab": {
          "base_uri": "https://localhost:8080/"
        },
        "id": "tUhsYB9WAbnq",
        "outputId": "a4147871-06e9-48ea-ca9a-f5a499660773"
      },
      "source": [
        "from google.colab import drive\n",
        "drive.mount('/content/drive/')"
      ],
      "execution_count": 3,
      "outputs": [
        {
          "output_type": "stream",
          "text": [
            "Drive already mounted at /content/drive/; to attempt to forcibly remount, call drive.mount(\"/content/drive/\", force_remount=True).\n"
          ],
          "name": "stdout"
        }
      ]
    },
    {
      "cell_type": "markdown",
      "metadata": {
        "id": "ShlEahDIzwIf"
      },
      "source": [
        "# Features Extraction"
      ]
    },
    {
      "cell_type": "markdown",
      "metadata": {
        "id": "6QufSKr1ksJc"
      },
      "source": [
        "Define a function extract_feature to extract the mfcc, chroma, and mel features from a sound file. This function takes 4 parameters- the file name and three Boolean parameters for the three features:\n",
        "\n",
        "* mfcc: Mel Frequency Cepstral Coefficient, represents the short-term power spectrum of a sound\n",
        "* chroma: Pertains to the 12 different pitch classes\n",
        "* mel: Mel Spectrogram Frequency\n",
        "* Contrast \n",
        "* Tonnetz (tonnetz)"
      ]
    },
    {
      "cell_type": "code",
      "metadata": {
        "id": "dwB6D_vLpOoR"
      },
      "source": [
        "def extract_feature(file_name, mfcc, chroma, mel, tonnetz, contrast):\n",
        "        # Load librosa array\n",
        "        X, sample_rate = librosa.load(os.path.join(file_name), res_type='kaiser_fast')\n",
        "        # Obtain the following features\n",
        "        if chroma or contrast:\n",
        "            stft = np.abs(librosa.stft(X))\n",
        "            result = np.array([])\n",
        "        # Mel Frequency Cepstral Coefficient\n",
        "        if mfcc:\n",
        "            mfccs = np.mean(librosa.feature.mfcc(y=X, sr=sample_rate, n_mfcc=40).T, axis=0)\n",
        "            result = np.hstack((result, mfccs))\n",
        "        if chroma:\n",
        "            chroma = np.mean(librosa.feature.chroma_stft(S=stft, sr=sample_rate).T,axis=0)\n",
        "            result = np.hstack((result, chroma))\n",
        "        # Mel Spectrogram Frequency\n",
        "        if mel:\n",
        "            mel = np.mean(librosa.feature.melspectrogram(X, sr=sample_rate).T,axis=0)\n",
        "            result = np.hstack((result, mel))\n",
        "        if contrast:\n",
        "            contrast = np.mean(librosa.feature.spectral_contrast(S=stft, sr=sample_rate).T,axis=0)\n",
        "            result = np.hstack((result, contrast))\n",
        "        if tonnetz:\n",
        "            tonnetz = np.mean(librosa.feature.tonnetz(y=librosa.effects.harmonic(X), sr=sample_rate).T,axis=0)\n",
        "            result = np.hstack((result, tonnetz))\n",
        "        return result"
      ],
      "execution_count": 4,
      "outputs": []
    },
    {
      "cell_type": "markdown",
      "metadata": {
        "id": "6xKzPyVcjvyT"
      },
      "source": [
        "Now, let’s define a dictionary to hold numbers and the emotions available in the RAVDESS, and a list to hold all emotions:\n",
        " 1. Neutral\n",
        " 2. Calm\n",
        " 3. Happy\n",
        " 4. Sad\n",
        " 5. Angry\n",
        " 6. Fearful\n",
        " 7. Disgust\n",
        " 8. Surprised "
      ]
    },
    {
      "cell_type": "code",
      "metadata": {
        "id": "EgwcKBQzpdgM"
      },
      "source": [
        "# All Emotions in the RAVDESS dataset\n",
        "emotions={\n",
        "  '01':'neutral',\n",
        "  '02':'calm',\n",
        "  '03':'happy',\n",
        "  '04':'sad',\n",
        "  '05':'angry',\n",
        "  '06':'fearful',\n",
        "  '07':'disgust',\n",
        "  '08':'surprised'\n",
        "}\n",
        "# Emotions to observe\n",
        "observed_emotions=['neutral','calm','happy','sad','angry']"
      ],
      "execution_count": 5,
      "outputs": []
    },
    {
      "cell_type": "markdown",
      "metadata": {
        "id": "2VjDiYuC3G-D"
      },
      "source": [
        "## Load the data and extract features for each sound file"
      ]
    },
    {
      "cell_type": "code",
      "metadata": {
        "id": "f2axyBFDqI1A"
      },
      "source": [
        "def load_data(test_size=0.2):\n",
        "    X,y=[],[]\n",
        "    # Read speech files \n",
        "    for file in glob.glob('/content/drive/MyDrive/Data/Actor_*/*.wav'):\n",
        "        file_name=os.path.basename(file)\n",
        "        emotion=emotions[file_name.split(\"-\")[2]]\n",
        "        # Only keep the observed emotion we set \n",
        "        if emotion not in observed_emotions:\n",
        "            continue\n",
        "       \n",
        "         # Extract speech features\n",
        "        feature=extract_feature(file, \n",
        "                                mfcc=True, \n",
        "                                chroma=False, \n",
        "                                mel=False, \n",
        "                                tonnetz=False, \n",
        "                                contrast=True)\n",
        "        # Append all the fetures and target into X and y lists\n",
        "        X.append(feature)\n",
        "        y.append(emotion)\n",
        "    # Return X_train, X_test, y_train, y_test\n",
        "    return train_test_split(np.array(X), \n",
        "                            y, \n",
        "                            test_size = test_size,\n",
        "                            random_state=42)"
      ],
      "execution_count": 8,
      "outputs": []
    },
    {
      "cell_type": "markdown",
      "metadata": {
        "id": "wKhGTlqpqOAr"
      },
      "source": [
        "## Split the Dataset\n",
        "Time to split the dataset into training and testing sets!"
      ]
    },
    {
      "cell_type": "code",
      "metadata": {
        "id": "a92bN5vAqRb2"
      },
      "source": [
        "# Split the dataset\n",
        "X_train, X_test, y_train, y_test = load_data(test_size=0.25)"
      ],
      "execution_count": 9,
      "outputs": []
    },
    {
      "cell_type": "markdown",
      "metadata": {
        "id": "46eeiQbYqT7p"
      },
      "source": [
        "###Observe the shape of the training and testing datasets:"
      ]
    },
    {
      "cell_type": "code",
      "metadata": {
        "id": "_MXFh4lwqYaC",
        "colab": {
          "base_uri": "https://localhost:8080/"
        },
        "outputId": "70b86707-308f-42ae-a7b9-89a6ca8b3d02"
      },
      "source": [
        "# Shape of training data\n",
        "print(\"[+] Shape of training samples:\", X_train.shape)\n",
        "\n",
        "# Shape of testing data\n",
        "print(\"[+] Shape of testing samples:\", X_test.shape)"
      ],
      "execution_count": 10,
      "outputs": [
        {
          "output_type": "stream",
          "text": [
            "[+] Shape of training samples: (648, 47)\n",
            "[+] Shape of testing samples: (216, 47)\n"
          ],
          "name": "stdout"
        }
      ]
    },
    {
      "cell_type": "markdown",
      "metadata": {
        "id": "xmwRPZe7qey5"
      },
      "source": [
        "### Number of features extracted."
      ]
    },
    {
      "cell_type": "code",
      "metadata": {
        "id": "H3C6czeDqgxX",
        "colab": {
          "base_uri": "https://localhost:8080/"
        },
        "outputId": "d11e9660-0226-43cf-aeab-97cb9bea5ee1"
      },
      "source": [
        "# Get the number of features extracted\n",
        "print(f'Features extracted: {X_train.shape[1]}')"
      ],
      "execution_count": 11,
      "outputs": [
        {
          "output_type": "stream",
          "text": [
            "Features extracted: 47\n"
          ],
          "name": "stdout"
        }
      ]
    },
    {
      "cell_type": "markdown",
      "metadata": {
        "id": "EY6mjXCO39YS"
      },
      "source": [
        "# Prepare training and testing data for CNN"
      ]
    },
    {
      "cell_type": "markdown",
      "metadata": {
        "id": "8OOKGHktGhVE"
      },
      "source": [
        "## Standarization"
      ]
    },
    {
      "cell_type": "code",
      "metadata": {
        "id": "Unk2x6RRGzuo"
      },
      "source": [
        "ss = StandardScaler()\n",
        "X_train = ss.fit_transform(X_train)\n",
        "X_test = ss.transform(X_test)"
      ],
      "execution_count": 12,
      "outputs": []
    },
    {
      "cell_type": "markdown",
      "metadata": {
        "id": "wArHkv-aGlbQ"
      },
      "source": [
        "## One hot encoder"
      ]
    },
    {
      "cell_type": "code",
      "metadata": {
        "colab": {
          "base_uri": "https://localhost:8080/"
        },
        "id": "v0Z7ezFTGY0x",
        "outputId": "cfe8f6d2-a626-4e25-eab5-0e380eda1ba6"
      },
      "source": [
        "X_train = np.array(X_train)\n",
        "y_train = np.array(y_train)\n",
        "X_test = np.array(X_test)\n",
        "y_test = np.array(y_test)\n",
        "\n",
        "# one hot encode the target \n",
        "lb = LabelEncoder()\n",
        "y_train = keras.utils.to_categorical(lb.fit_transform(y_train))\n",
        "y_test = keras.utils.to_categorical(lb.fit_transform(y_test))\n",
        "\n",
        "print(X_train.shape)\n",
        "print(lb.classes_)\n",
        "\n",
        "# Pickel the lb object for future use \n",
        "filename = 'labels'\n",
        "outfile = open(filename,'wb')\n",
        "pickle.dump(lb,outfile)\n",
        "outfile.close()"
      ],
      "execution_count": 13,
      "outputs": [
        {
          "output_type": "stream",
          "text": [
            "(648, 47)\n",
            "['angry' 'calm' 'happy' 'neutral' 'sad']\n"
          ],
          "name": "stdout"
        }
      ]
    },
    {
      "cell_type": "code",
      "metadata": {
        "id": "DvlmuUYE4DgW"
      },
      "source": [
        "X_train_dim = np.asarray(np.expand_dims(X_train, axis=2))\n",
        "X_test_dim = np.asarray(np.expand_dims(X_test, axis=2))"
      ],
      "execution_count": 14,
      "outputs": []
    },
    {
      "cell_type": "code",
      "metadata": {
        "colab": {
          "base_uri": "https://localhost:8080/"
        },
        "id": "KHdWmNdd5KYg",
        "outputId": "9fd01861-1e2e-4ef2-f96d-20ac50d3f564"
      },
      "source": [
        "# Shape of training data\n",
        "print(\"[+] Shape of training samples:\", X_train_dim.shape)\n",
        "# Shape of testing data\n",
        "print(\"[+] Shape of testing samples:\", X_test_dim.shape)"
      ],
      "execution_count": 15,
      "outputs": [
        {
          "output_type": "stream",
          "text": [
            "[+] Shape of training samples: (648, 47, 1)\n",
            "[+] Shape of testing samples: (216, 47, 1)\n"
          ],
          "name": "stdout"
        }
      ]
    },
    {
      "cell_type": "markdown",
      "metadata": {
        "id": "uMkYs2hyTEjQ"
      },
      "source": [
        "## Fully Connected Neural Network"
      ]
    },
    {
      "cell_type": "code",
      "metadata": {
        "id": "ssHixViKf9yq",
        "colab": {
          "base_uri": "https://localhost:8080/"
        },
        "outputId": "0647e0e3-6ae9-422a-b507-005265327d69"
      },
      "source": [
        "model = Sequential()\n",
        "model.add(Dense(100, input_shape=(47,1), activation=\"relu\"))\n",
        "model.add(Dropout(0.5))\n",
        "model.add(Dense(50, activation=\"relu\"))\n",
        "model.add(Dropout(0.5))\n",
        "model.add(Dense(20, activation=\"relu\"))\n",
        "model.add(Dropout(0.5))\n",
        "model.add(Flatten())\n",
        "model.add(Dense(5, activation=\"softmax\"))\n",
        "\n",
        "model.summary()\n",
        "model.compile(loss='categorical_crossentropy',\n",
        "              metrics=['accuracy'], \n",
        "              optimizer='adam')\n",
        "\n",
        "early_stop = EarlyStopping(monitor='val_loss', min_delta=0, patience=100, verbose=1, mode='auto')"
      ],
      "execution_count": 16,
      "outputs": [
        {
          "output_type": "stream",
          "text": [
            "Model: \"sequential\"\n",
            "_________________________________________________________________\n",
            "Layer (type)                 Output Shape              Param #   \n",
            "=================================================================\n",
            "dense (Dense)                (None, 47, 100)           200       \n",
            "_________________________________________________________________\n",
            "dropout (Dropout)            (None, 47, 100)           0         \n",
            "_________________________________________________________________\n",
            "dense_1 (Dense)              (None, 47, 50)            5050      \n",
            "_________________________________________________________________\n",
            "dropout_1 (Dropout)          (None, 47, 50)            0         \n",
            "_________________________________________________________________\n",
            "dense_2 (Dense)              (None, 47, 20)            1020      \n",
            "_________________________________________________________________\n",
            "dropout_2 (Dropout)          (None, 47, 20)            0         \n",
            "_________________________________________________________________\n",
            "flatten (Flatten)            (None, 940)               0         \n",
            "_________________________________________________________________\n",
            "dense_3 (Dense)              (None, 5)                 4705      \n",
            "=================================================================\n",
            "Total params: 10,975\n",
            "Trainable params: 10,975\n",
            "Non-trainable params: 0\n",
            "_________________________________________________________________\n"
          ],
          "name": "stdout"
        }
      ]
    },
    {
      "cell_type": "code",
      "metadata": {
        "colab": {
          "base_uri": "https://localhost:8080/"
        },
        "id": "-0Kqvs8QVPgJ",
        "outputId": "1582e738-8e5e-4394-f938-97fe7eee9864"
      },
      "source": [
        "history = model.fit(X_train_dim,\n",
        "                    np.asarray(y_train), \n",
        "                    batch_size=64, \n",
        "                    epochs = 100, \n",
        "                    validation_data=(X_test_dim, np.asarray(y_test)),\n",
        "                    callbacks=[early_stop])"
      ],
      "execution_count": 17,
      "outputs": [
        {
          "output_type": "stream",
          "text": [
            "Epoch 1/100\n",
            "11/11 [==============================] - 0s 35ms/step - loss: 1.6096 - accuracy: 0.2238 - val_loss: 1.5758 - val_accuracy: 0.2546\n",
            "Epoch 2/100\n",
            "11/11 [==============================] - 0s 15ms/step - loss: 1.5523 - accuracy: 0.2840 - val_loss: 1.5411 - val_accuracy: 0.3009\n",
            "Epoch 3/100\n",
            "11/11 [==============================] - 0s 16ms/step - loss: 1.5164 - accuracy: 0.3071 - val_loss: 1.4997 - val_accuracy: 0.3241\n",
            "Epoch 4/100\n",
            "11/11 [==============================] - 0s 17ms/step - loss: 1.4767 - accuracy: 0.3596 - val_loss: 1.4586 - val_accuracy: 0.3565\n",
            "Epoch 5/100\n",
            "11/11 [==============================] - 0s 16ms/step - loss: 1.4259 - accuracy: 0.3843 - val_loss: 1.4162 - val_accuracy: 0.4028\n",
            "Epoch 6/100\n",
            "11/11 [==============================] - 0s 16ms/step - loss: 1.3899 - accuracy: 0.4228 - val_loss: 1.3689 - val_accuracy: 0.4213\n",
            "Epoch 7/100\n",
            "11/11 [==============================] - 0s 15ms/step - loss: 1.3420 - accuracy: 0.4182 - val_loss: 1.3284 - val_accuracy: 0.4259\n",
            "Epoch 8/100\n",
            "11/11 [==============================] - 0s 16ms/step - loss: 1.3243 - accuracy: 0.4321 - val_loss: 1.3057 - val_accuracy: 0.4306\n",
            "Epoch 9/100\n",
            "11/11 [==============================] - 0s 15ms/step - loss: 1.2851 - accuracy: 0.4491 - val_loss: 1.2705 - val_accuracy: 0.4537\n",
            "Epoch 10/100\n",
            "11/11 [==============================] - 0s 16ms/step - loss: 1.2598 - accuracy: 0.4846 - val_loss: 1.2430 - val_accuracy: 0.4676\n",
            "Epoch 11/100\n",
            "11/11 [==============================] - 0s 16ms/step - loss: 1.2574 - accuracy: 0.4522 - val_loss: 1.2322 - val_accuracy: 0.4537\n",
            "Epoch 12/100\n",
            "11/11 [==============================] - 0s 17ms/step - loss: 1.2114 - accuracy: 0.5062 - val_loss: 1.1991 - val_accuracy: 0.4861\n",
            "Epoch 13/100\n",
            "11/11 [==============================] - 0s 15ms/step - loss: 1.1820 - accuracy: 0.4907 - val_loss: 1.1725 - val_accuracy: 0.5000\n",
            "Epoch 14/100\n",
            "11/11 [==============================] - 0s 16ms/step - loss: 1.1773 - accuracy: 0.4815 - val_loss: 1.1502 - val_accuracy: 0.4861\n",
            "Epoch 15/100\n",
            "11/11 [==============================] - 0s 16ms/step - loss: 1.1548 - accuracy: 0.5201 - val_loss: 1.1317 - val_accuracy: 0.4907\n",
            "Epoch 16/100\n",
            "11/11 [==============================] - 0s 15ms/step - loss: 1.1265 - accuracy: 0.5386 - val_loss: 1.1065 - val_accuracy: 0.5231\n",
            "Epoch 17/100\n",
            "11/11 [==============================] - 0s 17ms/step - loss: 1.1410 - accuracy: 0.5139 - val_loss: 1.0952 - val_accuracy: 0.5185\n",
            "Epoch 18/100\n",
            "11/11 [==============================] - 0s 17ms/step - loss: 1.1137 - accuracy: 0.5278 - val_loss: 1.0908 - val_accuracy: 0.5324\n",
            "Epoch 19/100\n",
            "11/11 [==============================] - 0s 16ms/step - loss: 1.0929 - accuracy: 0.5586 - val_loss: 1.0814 - val_accuracy: 0.5278\n",
            "Epoch 20/100\n",
            "11/11 [==============================] - 0s 17ms/step - loss: 1.1288 - accuracy: 0.5355 - val_loss: 1.0733 - val_accuracy: 0.5324\n",
            "Epoch 21/100\n",
            "11/11 [==============================] - 0s 16ms/step - loss: 1.0611 - accuracy: 0.5540 - val_loss: 1.0769 - val_accuracy: 0.5185\n",
            "Epoch 22/100\n",
            "11/11 [==============================] - 0s 15ms/step - loss: 1.0462 - accuracy: 0.5725 - val_loss: 1.0623 - val_accuracy: 0.5370\n",
            "Epoch 23/100\n",
            "11/11 [==============================] - 0s 16ms/step - loss: 1.0501 - accuracy: 0.5617 - val_loss: 1.0476 - val_accuracy: 0.5556\n",
            "Epoch 24/100\n",
            "11/11 [==============================] - 0s 16ms/step - loss: 1.0598 - accuracy: 0.5772 - val_loss: 1.0545 - val_accuracy: 0.5278\n",
            "Epoch 25/100\n",
            "11/11 [==============================] - 0s 16ms/step - loss: 1.0136 - accuracy: 0.5756 - val_loss: 1.0356 - val_accuracy: 0.5602\n",
            "Epoch 26/100\n",
            "11/11 [==============================] - 0s 15ms/step - loss: 0.9725 - accuracy: 0.5926 - val_loss: 1.0192 - val_accuracy: 0.5556\n",
            "Epoch 27/100\n",
            "11/11 [==============================] - 0s 16ms/step - loss: 1.0474 - accuracy: 0.5710 - val_loss: 1.0107 - val_accuracy: 0.5602\n",
            "Epoch 28/100\n",
            "11/11 [==============================] - 0s 15ms/step - loss: 1.0146 - accuracy: 0.5664 - val_loss: 1.0152 - val_accuracy: 0.5370\n",
            "Epoch 29/100\n",
            "11/11 [==============================] - 0s 16ms/step - loss: 1.0128 - accuracy: 0.5617 - val_loss: 0.9973 - val_accuracy: 0.5648\n",
            "Epoch 30/100\n",
            "11/11 [==============================] - 0s 16ms/step - loss: 1.0033 - accuracy: 0.5972 - val_loss: 0.9981 - val_accuracy: 0.5602\n",
            "Epoch 31/100\n",
            "11/11 [==============================] - 0s 16ms/step - loss: 0.9925 - accuracy: 0.6049 - val_loss: 0.9946 - val_accuracy: 0.5648\n",
            "Epoch 32/100\n",
            "11/11 [==============================] - 0s 16ms/step - loss: 0.9777 - accuracy: 0.5972 - val_loss: 0.9996 - val_accuracy: 0.5648\n",
            "Epoch 33/100\n",
            "11/11 [==============================] - 0s 15ms/step - loss: 0.9084 - accuracy: 0.6451 - val_loss: 0.9888 - val_accuracy: 0.5648\n",
            "Epoch 34/100\n",
            "11/11 [==============================] - 0s 15ms/step - loss: 0.9868 - accuracy: 0.5880 - val_loss: 0.9820 - val_accuracy: 0.5648\n",
            "Epoch 35/100\n",
            "11/11 [==============================] - 0s 17ms/step - loss: 0.9082 - accuracy: 0.6235 - val_loss: 0.9867 - val_accuracy: 0.5833\n",
            "Epoch 36/100\n",
            "11/11 [==============================] - 0s 16ms/step - loss: 0.9575 - accuracy: 0.6003 - val_loss: 0.9650 - val_accuracy: 0.5741\n",
            "Epoch 37/100\n",
            "11/11 [==============================] - 0s 17ms/step - loss: 0.9456 - accuracy: 0.6142 - val_loss: 0.9659 - val_accuracy: 0.5926\n",
            "Epoch 38/100\n",
            "11/11 [==============================] - 0s 16ms/step - loss: 0.9366 - accuracy: 0.6404 - val_loss: 0.9815 - val_accuracy: 0.5602\n",
            "Epoch 39/100\n",
            "11/11 [==============================] - 0s 15ms/step - loss: 0.8860 - accuracy: 0.6466 - val_loss: 0.9777 - val_accuracy: 0.5880\n",
            "Epoch 40/100\n",
            "11/11 [==============================] - 0s 18ms/step - loss: 0.9233 - accuracy: 0.6157 - val_loss: 0.9605 - val_accuracy: 0.5972\n",
            "Epoch 41/100\n",
            "11/11 [==============================] - 0s 16ms/step - loss: 0.9085 - accuracy: 0.6142 - val_loss: 0.9617 - val_accuracy: 0.5972\n",
            "Epoch 42/100\n",
            "11/11 [==============================] - 0s 16ms/step - loss: 0.8946 - accuracy: 0.6389 - val_loss: 0.9639 - val_accuracy: 0.5741\n",
            "Epoch 43/100\n",
            "11/11 [==============================] - 0s 16ms/step - loss: 0.9262 - accuracy: 0.6343 - val_loss: 0.9606 - val_accuracy: 0.5602\n",
            "Epoch 44/100\n",
            "11/11 [==============================] - 0s 16ms/step - loss: 0.9279 - accuracy: 0.6497 - val_loss: 0.9520 - val_accuracy: 0.5694\n",
            "Epoch 45/100\n",
            "11/11 [==============================] - 0s 17ms/step - loss: 0.9235 - accuracy: 0.6235 - val_loss: 0.9485 - val_accuracy: 0.5926\n",
            "Epoch 46/100\n",
            "11/11 [==============================] - 0s 16ms/step - loss: 0.9107 - accuracy: 0.6343 - val_loss: 0.9470 - val_accuracy: 0.5833\n",
            "Epoch 47/100\n",
            "11/11 [==============================] - 0s 17ms/step - loss: 0.8817 - accuracy: 0.6559 - val_loss: 0.9374 - val_accuracy: 0.6019\n",
            "Epoch 48/100\n",
            "11/11 [==============================] - 0s 18ms/step - loss: 0.8680 - accuracy: 0.6451 - val_loss: 0.9408 - val_accuracy: 0.5741\n",
            "Epoch 49/100\n",
            "11/11 [==============================] - 0s 16ms/step - loss: 0.8489 - accuracy: 0.6559 - val_loss: 0.9486 - val_accuracy: 0.5833\n",
            "Epoch 50/100\n",
            "11/11 [==============================] - 0s 16ms/step - loss: 0.8618 - accuracy: 0.6744 - val_loss: 0.9452 - val_accuracy: 0.6019\n",
            "Epoch 51/100\n",
            "11/11 [==============================] - 0s 16ms/step - loss: 0.9062 - accuracy: 0.6188 - val_loss: 0.9386 - val_accuracy: 0.5833\n",
            "Epoch 52/100\n",
            "11/11 [==============================] - 0s 16ms/step - loss: 0.8941 - accuracy: 0.6466 - val_loss: 0.9403 - val_accuracy: 0.5926\n",
            "Epoch 53/100\n",
            "11/11 [==============================] - 0s 16ms/step - loss: 0.9053 - accuracy: 0.6590 - val_loss: 0.9355 - val_accuracy: 0.5833\n",
            "Epoch 54/100\n",
            "11/11 [==============================] - 0s 16ms/step - loss: 0.8544 - accuracy: 0.6728 - val_loss: 0.9343 - val_accuracy: 0.5833\n",
            "Epoch 55/100\n",
            "11/11 [==============================] - 0s 17ms/step - loss: 0.8454 - accuracy: 0.6636 - val_loss: 0.9366 - val_accuracy: 0.5926\n",
            "Epoch 56/100\n",
            "11/11 [==============================] - 0s 16ms/step - loss: 0.8415 - accuracy: 0.6698 - val_loss: 0.9301 - val_accuracy: 0.5972\n",
            "Epoch 57/100\n",
            "11/11 [==============================] - 0s 15ms/step - loss: 0.8745 - accuracy: 0.6435 - val_loss: 0.9351 - val_accuracy: 0.6111\n",
            "Epoch 58/100\n",
            "11/11 [==============================] - 0s 16ms/step - loss: 0.8512 - accuracy: 0.6605 - val_loss: 0.9251 - val_accuracy: 0.6019\n",
            "Epoch 59/100\n",
            "11/11 [==============================] - 0s 16ms/step - loss: 0.8552 - accuracy: 0.6698 - val_loss: 0.9276 - val_accuracy: 0.6111\n",
            "Epoch 60/100\n",
            "11/11 [==============================] - 0s 16ms/step - loss: 0.8600 - accuracy: 0.6528 - val_loss: 0.9210 - val_accuracy: 0.5972\n",
            "Epoch 61/100\n",
            "11/11 [==============================] - 0s 16ms/step - loss: 0.8504 - accuracy: 0.6574 - val_loss: 0.9265 - val_accuracy: 0.5880\n",
            "Epoch 62/100\n",
            "11/11 [==============================] - 0s 17ms/step - loss: 0.8700 - accuracy: 0.6574 - val_loss: 0.9249 - val_accuracy: 0.5926\n",
            "Epoch 63/100\n",
            "11/11 [==============================] - 0s 17ms/step - loss: 0.8411 - accuracy: 0.6728 - val_loss: 0.9229 - val_accuracy: 0.6019\n",
            "Epoch 64/100\n",
            "11/11 [==============================] - 0s 16ms/step - loss: 0.8522 - accuracy: 0.6497 - val_loss: 0.9198 - val_accuracy: 0.5787\n",
            "Epoch 65/100\n",
            "11/11 [==============================] - 0s 17ms/step - loss: 0.8745 - accuracy: 0.6528 - val_loss: 0.9168 - val_accuracy: 0.5926\n",
            "Epoch 66/100\n",
            "11/11 [==============================] - 0s 16ms/step - loss: 0.8404 - accuracy: 0.6667 - val_loss: 0.9272 - val_accuracy: 0.6065\n",
            "Epoch 67/100\n",
            "11/11 [==============================] - 0s 16ms/step - loss: 0.8377 - accuracy: 0.6651 - val_loss: 0.9208 - val_accuracy: 0.6065\n",
            "Epoch 68/100\n",
            "11/11 [==============================] - 0s 17ms/step - loss: 0.8406 - accuracy: 0.6528 - val_loss: 0.9169 - val_accuracy: 0.5880\n",
            "Epoch 69/100\n",
            "11/11 [==============================] - 0s 16ms/step - loss: 0.8227 - accuracy: 0.6929 - val_loss: 0.9237 - val_accuracy: 0.5972\n",
            "Epoch 70/100\n",
            "11/11 [==============================] - 0s 17ms/step - loss: 0.8418 - accuracy: 0.6466 - val_loss: 0.9177 - val_accuracy: 0.5926\n",
            "Epoch 71/100\n",
            "11/11 [==============================] - 0s 16ms/step - loss: 0.8703 - accuracy: 0.6466 - val_loss: 0.9160 - val_accuracy: 0.6019\n",
            "Epoch 72/100\n",
            "11/11 [==============================] - 0s 16ms/step - loss: 0.8271 - accuracy: 0.6775 - val_loss: 0.9089 - val_accuracy: 0.5972\n",
            "Epoch 73/100\n",
            "11/11 [==============================] - 0s 17ms/step - loss: 0.7788 - accuracy: 0.7006 - val_loss: 0.9031 - val_accuracy: 0.6111\n",
            "Epoch 74/100\n",
            "11/11 [==============================] - 0s 17ms/step - loss: 0.8177 - accuracy: 0.6574 - val_loss: 0.9046 - val_accuracy: 0.6065\n",
            "Epoch 75/100\n",
            "11/11 [==============================] - 0s 17ms/step - loss: 0.8170 - accuracy: 0.6867 - val_loss: 0.9163 - val_accuracy: 0.5972\n",
            "Epoch 76/100\n",
            "11/11 [==============================] - 0s 16ms/step - loss: 0.8244 - accuracy: 0.6852 - val_loss: 0.9098 - val_accuracy: 0.6065\n",
            "Epoch 77/100\n",
            "11/11 [==============================] - 0s 18ms/step - loss: 0.7871 - accuracy: 0.6852 - val_loss: 0.9183 - val_accuracy: 0.6204\n",
            "Epoch 78/100\n",
            "11/11 [==============================] - 0s 16ms/step - loss: 0.8296 - accuracy: 0.6836 - val_loss: 0.9124 - val_accuracy: 0.5880\n",
            "Epoch 79/100\n",
            "11/11 [==============================] - 0s 16ms/step - loss: 0.8237 - accuracy: 0.6744 - val_loss: 0.8979 - val_accuracy: 0.5926\n",
            "Epoch 80/100\n",
            "11/11 [==============================] - 0s 16ms/step - loss: 0.7729 - accuracy: 0.6775 - val_loss: 0.9023 - val_accuracy: 0.6111\n",
            "Epoch 81/100\n",
            "11/11 [==============================] - 0s 15ms/step - loss: 0.8206 - accuracy: 0.6759 - val_loss: 0.9147 - val_accuracy: 0.6065\n",
            "Epoch 82/100\n",
            "11/11 [==============================] - 0s 14ms/step - loss: 0.7779 - accuracy: 0.6867 - val_loss: 0.8916 - val_accuracy: 0.5880\n",
            "Epoch 83/100\n",
            "11/11 [==============================] - 0s 15ms/step - loss: 0.8249 - accuracy: 0.6590 - val_loss: 0.9014 - val_accuracy: 0.6343\n",
            "Epoch 84/100\n",
            "11/11 [==============================] - 0s 15ms/step - loss: 0.8107 - accuracy: 0.6806 - val_loss: 0.8900 - val_accuracy: 0.6343\n",
            "Epoch 85/100\n",
            "11/11 [==============================] - 0s 16ms/step - loss: 0.8520 - accuracy: 0.6404 - val_loss: 0.8872 - val_accuracy: 0.6250\n",
            "Epoch 86/100\n",
            "11/11 [==============================] - 0s 15ms/step - loss: 0.7814 - accuracy: 0.6944 - val_loss: 0.8996 - val_accuracy: 0.6250\n",
            "Epoch 87/100\n",
            "11/11 [==============================] - 0s 15ms/step - loss: 0.8142 - accuracy: 0.6759 - val_loss: 0.8878 - val_accuracy: 0.6343\n",
            "Epoch 88/100\n",
            "11/11 [==============================] - 0s 14ms/step - loss: 0.8190 - accuracy: 0.6667 - val_loss: 0.8896 - val_accuracy: 0.6204\n",
            "Epoch 89/100\n",
            "11/11 [==============================] - 0s 15ms/step - loss: 0.7936 - accuracy: 0.6821 - val_loss: 0.9001 - val_accuracy: 0.6296\n",
            "Epoch 90/100\n",
            "11/11 [==============================] - 0s 15ms/step - loss: 0.7896 - accuracy: 0.6944 - val_loss: 0.8946 - val_accuracy: 0.6435\n",
            "Epoch 91/100\n",
            "11/11 [==============================] - 0s 15ms/step - loss: 0.7923 - accuracy: 0.6821 - val_loss: 0.8902 - val_accuracy: 0.6343\n",
            "Epoch 92/100\n",
            "11/11 [==============================] - 0s 16ms/step - loss: 0.7919 - accuracy: 0.6898 - val_loss: 0.8847 - val_accuracy: 0.6204\n",
            "Epoch 93/100\n",
            "11/11 [==============================] - 0s 16ms/step - loss: 0.8218 - accuracy: 0.6883 - val_loss: 0.8794 - val_accuracy: 0.6204\n",
            "Epoch 94/100\n",
            "11/11 [==============================] - 0s 16ms/step - loss: 0.7871 - accuracy: 0.6929 - val_loss: 0.8897 - val_accuracy: 0.6065\n",
            "Epoch 95/100\n",
            "11/11 [==============================] - 0s 15ms/step - loss: 0.8253 - accuracy: 0.6713 - val_loss: 0.8898 - val_accuracy: 0.6204\n",
            "Epoch 96/100\n",
            "11/11 [==============================] - 0s 16ms/step - loss: 0.8013 - accuracy: 0.6682 - val_loss: 0.8960 - val_accuracy: 0.6204\n",
            "Epoch 97/100\n",
            "11/11 [==============================] - 0s 15ms/step - loss: 0.8050 - accuracy: 0.6775 - val_loss: 0.8826 - val_accuracy: 0.5972\n",
            "Epoch 98/100\n",
            "11/11 [==============================] - 0s 15ms/step - loss: 0.7750 - accuracy: 0.7006 - val_loss: 0.8967 - val_accuracy: 0.6204\n",
            "Epoch 99/100\n",
            "11/11 [==============================] - 0s 16ms/step - loss: 0.7682 - accuracy: 0.6944 - val_loss: 0.9085 - val_accuracy: 0.6389\n",
            "Epoch 100/100\n",
            "11/11 [==============================] - 0s 15ms/step - loss: 0.8235 - accuracy: 0.6559 - val_loss: 0.8737 - val_accuracy: 0.6296\n"
          ],
          "name": "stdout"
        }
      ]
    },
    {
      "cell_type": "code",
      "metadata": {
        "colab": {
          "base_uri": "https://localhost:8080/"
        },
        "id": "jbiG0t_2iZPU",
        "outputId": "f51f1172-abc7-47ca-a26b-7943a00b9fcf"
      },
      "source": [
        "loss, accuracy = model.evaluate(X_train_dim, y_train, verbose=True)\n",
        "print(\"Training Accuracy: {:.4f}\".format(accuracy))\n",
        "loss, accuracy = model.evaluate(X_test_dim, y_test, verbose=False)\n",
        "print(\"Testing Accuracy:  {:.4f}\".format(accuracy))\n",
        "\n",
        "y_pred=model.predict(X_test_dim, batch_size=200, verbose=1)\n",
        "report = classification_report(y_test, y_pred.round())\n",
        "print(report)"
      ],
      "execution_count": 18,
      "outputs": [
        {
          "output_type": "stream",
          "text": [
            "21/21 [==============================] - 0s 2ms/step - loss: 0.5972 - accuracy: 0.7978\n",
            "Training Accuracy: 0.7978\n",
            "Testing Accuracy:  0.6296\n",
            "2/2 [==============================] - 0s 3ms/step\n",
            "              precision    recall  f1-score   support\n",
            "\n",
            "           0       0.89      0.78      0.83        51\n",
            "           1       0.61      0.50      0.55        46\n",
            "           2       0.67      0.45      0.54        44\n",
            "           3       0.44      0.15      0.23        26\n",
            "           4       0.62      0.37      0.46        49\n",
            "\n",
            "   micro avg       0.70      0.49      0.57       216\n",
            "   macro avg       0.65      0.45      0.52       216\n",
            "weighted avg       0.67      0.49      0.56       216\n",
            " samples avg       0.49      0.49      0.49       216\n",
            "\n"
          ],
          "name": "stdout"
        },
        {
          "output_type": "stream",
          "text": [
            "/usr/local/lib/python3.6/dist-packages/sklearn/metrics/_classification.py:1272: UndefinedMetricWarning: Precision and F-score are ill-defined and being set to 0.0 in samples with no predicted labels. Use `zero_division` parameter to control this behavior.\n",
            "  _warn_prf(average, modifier, msg_start, len(result))\n"
          ],
          "name": "stderr"
        }
      ]
    },
    {
      "cell_type": "code",
      "metadata": {
        "colab": {
          "base_uri": "https://localhost:8080/",
          "height": 295
        },
        "id": "EP8viNVNVPgJ",
        "outputId": "6b8316a8-c850-4e4e-d702-3ea9920abc30"
      },
      "source": [
        "plt.plot(history.history['accuracy'])\n",
        "plt.plot(history.history['val_accuracy'])\n",
        "plt.title('model accuracy')\n",
        "plt.ylabel('accuracy')\n",
        "plt.xlabel('epoch')\n",
        "plt.legend(['train', 'test'], loc='upper left')\n",
        "plt.show()"
      ],
      "execution_count": 19,
      "outputs": [
        {
          "output_type": "display_data",
          "data": {
            "image/png": "[encoded data removed]",
            "text/plain": [
              "<Figure size 432x288 with 1 Axes>"
            ]
          },
          "metadata": {
            "tags": [],
            "needs_background": "light"
          }
        }
      ]
    },
    {
      "cell_type": "code",
      "metadata": {
        "colab": {
          "base_uri": "https://localhost:8080/",
          "height": 295
        },
        "id": "O4V9LHOTwv3R",
        "outputId": "b9def097-c059-445e-c700-efeb3bd6f772"
      },
      "source": [
        "plt.plot(history.history['loss'])\n",
        "plt.plot(history.history['val_loss'])\n",
        "plt.title('model loss')\n",
        "plt.ylabel('accuracy')\n",
        "plt.xlabel('epoch')\n",
        "plt.legend(['train', 'test'], loc='upper left')\n",
        "plt.show()"
      ],
      "execution_count": 20,
      "outputs": [
        {
          "output_type": "display_data",
          "data": {
            "image/png": "[encoded data removed]",
            "text/plain": [
              "<Figure size 432x288 with 1 Axes>"
            ]
          },
          "metadata": {
            "tags": [],
            "needs_background": "light"
          }
        }
      ]
    },
    {
      "cell_type": "markdown",
      "metadata": {
        "id": "DswSuYeljcKB"
      },
      "source": [
        "# CNN"
      ]
    },
    {
      "cell_type": "code",
      "metadata": {
        "colab": {
          "base_uri": "https://localhost:8080/"
        },
        "id": "h3E0E_HG1YPX",
        "outputId": "41ec0323-0d7c-4f79-f08e-607cd06d1781"
      },
      "source": [
        "# New model\n",
        "model = Sequential()\n",
        "model.add(Conv1D(32, 5, padding='same', input_shape=(47,1)))  # X_train.shape[1] = No. of Columns))\n",
        "model.add(Dropout(0.1))\n",
        "model.add(MaxPooling1D(pool_size=(4)))\n",
        "model.add(Conv1D(64, 5, padding='same', activation= 'relu'))\n",
        "model.add(Dropout(0.1))\n",
        "model.add(MaxPooling1D(pool_size=(4)))\n",
        "model.add(Conv1D(128, 5, padding='same', activation= 'relu'))\n",
        "model.add(Dropout(0.1))\n",
        "model.add(Dense(20, activation='relu')) \n",
        "model.add(Flatten())\n",
        "model.add(Dense(5, activation='softmax')) # Target class number\n",
        "model.summary()\n",
        "early_stop = EarlyStopping(monitor='val_loss', min_delta=0, patience=100, verbose=1, mode='auto')"
      ],
      "execution_count": 114,
      "outputs": [
        {
          "output_type": "stream",
          "text": [
            "Model: \"sequential_17\"\n",
            "_________________________________________________________________\n",
            "Layer (type)                 Output Shape              Param #   \n",
            "=================================================================\n",
            "conv1d_51 (Conv1D)           (None, 47, 32)            192       \n",
            "_________________________________________________________________\n",
            "dropout_36 (Dropout)         (None, 47, 32)            0         \n",
            "_________________________________________________________________\n",
            "max_pooling1d_4 (MaxPooling1 (None, 11, 32)            0         \n",
            "_________________________________________________________________\n",
            "conv1d_52 (Conv1D)           (None, 11, 64)            10304     \n",
            "_________________________________________________________________\n",
            "dropout_37 (Dropout)         (None, 11, 64)            0         \n",
            "_________________________________________________________________\n",
            "max_pooling1d_5 (MaxPooling1 (None, 2, 64)             0         \n",
            "_________________________________________________________________\n",
            "conv1d_53 (Conv1D)           (None, 2, 128)            41088     \n",
            "_________________________________________________________________\n",
            "dropout_38 (Dropout)         (None, 2, 128)            0         \n",
            "_________________________________________________________________\n",
            "dense_49 (Dense)             (None, 2, 20)             2580      \n",
            "_________________________________________________________________\n",
            "flatten_17 (Flatten)         (None, 40)                0         \n",
            "_________________________________________________________________\n",
            "dense_50 (Dense)             (None, 5)                 205       \n",
            "=================================================================\n",
            "Total params: 54,369\n",
            "Trainable params: 54,369\n",
            "Non-trainable params: 0\n",
            "_________________________________________________________________\n"
          ],
          "name": "stdout"
        }
      ]
    },
    {
      "cell_type": "code",
      "metadata": {
        "id": "HI_kWMxl7719"
      },
      "source": [
        "model.compile(loss='categorical_crossentropy',\n",
        "              optimizer=keras.optimizers.RMSprop(lr=0.00005, rho=0.9, epsilon=1e-07, decay=0.0),\n",
        "              metrics=['accuracy'])\n",
        "\n",
        "# keras.optimizers.Adam(lr=0.0001)"
      ],
      "execution_count": 115,
      "outputs": []
    },
    {
      "cell_type": "code",
      "metadata": {
        "colab": {
          "base_uri": "https://localhost:8080/"
        },
        "id": "xLkfpDF7Eizy",
        "outputId": "1fbe338a-b484-46a6-ab9f-08698a15e7fe"
      },
      "source": [
        "history = model.fit(X_train_dim,\n",
        "                    np.asarray(y_train), \n",
        "                    batch_size=16, \n",
        "                    epochs = 100, \n",
        "                    validation_data=(X_test_dim, np.asarray(y_test)))"
      ],
      "execution_count": 116,
      "outputs": [
        {
          "output_type": "stream",
          "text": [
            "Epoch 1/100\n",
            "41/41 [==============================] - 0s 10ms/step - loss: 1.5970 - accuracy: 0.1960 - val_loss: 1.5871 - val_accuracy: 0.2454\n",
            "Epoch 2/100\n",
            "41/41 [==============================] - 0s 5ms/step - loss: 1.5809 - accuracy: 0.2608 - val_loss: 1.5757 - val_accuracy: 0.2454\n",
            "Epoch 3/100\n",
            "41/41 [==============================] - 0s 5ms/step - loss: 1.5665 - accuracy: 0.2762 - val_loss: 1.5648 - val_accuracy: 0.2454\n",
            "Epoch 4/100\n",
            "41/41 [==============================] - 0s 5ms/step - loss: 1.5558 - accuracy: 0.2670 - val_loss: 1.5543 - val_accuracy: 0.2546\n",
            "Epoch 5/100\n",
            "41/41 [==============================] - 0s 5ms/step - loss: 1.5453 - accuracy: 0.2809 - val_loss: 1.5449 - val_accuracy: 0.2593\n",
            "Epoch 6/100\n",
            "41/41 [==============================] - 0s 5ms/step - loss: 1.5367 - accuracy: 0.2963 - val_loss: 1.5356 - val_accuracy: 0.2593\n",
            "Epoch 7/100\n",
            "41/41 [==============================] - 0s 5ms/step - loss: 1.5271 - accuracy: 0.3071 - val_loss: 1.5268 - val_accuracy: 0.2731\n",
            "Epoch 8/100\n",
            "41/41 [==============================] - 0s 5ms/step - loss: 1.5155 - accuracy: 0.3210 - val_loss: 1.5180 - val_accuracy: 0.2778\n",
            "Epoch 9/100\n",
            "41/41 [==============================] - 0s 4ms/step - loss: 1.5076 - accuracy: 0.3395 - val_loss: 1.5088 - val_accuracy: 0.3102\n",
            "Epoch 10/100\n",
            "41/41 [==============================] - 0s 5ms/step - loss: 1.4991 - accuracy: 0.3580 - val_loss: 1.5008 - val_accuracy: 0.3056\n",
            "Epoch 11/100\n",
            "41/41 [==============================] - 0s 5ms/step - loss: 1.4876 - accuracy: 0.3534 - val_loss: 1.4941 - val_accuracy: 0.3102\n",
            "Epoch 12/100\n",
            "41/41 [==============================] - 0s 5ms/step - loss: 1.4836 - accuracy: 0.3426 - val_loss: 1.4865 - val_accuracy: 0.3102\n",
            "Epoch 13/100\n",
            "41/41 [==============================] - 0s 5ms/step - loss: 1.4756 - accuracy: 0.3488 - val_loss: 1.4803 - val_accuracy: 0.3148\n",
            "Epoch 14/100\n",
            "41/41 [==============================] - 0s 4ms/step - loss: 1.4688 - accuracy: 0.3549 - val_loss: 1.4746 - val_accuracy: 0.3241\n",
            "Epoch 15/100\n",
            "41/41 [==============================] - 0s 5ms/step - loss: 1.4568 - accuracy: 0.3750 - val_loss: 1.4680 - val_accuracy: 0.3241\n",
            "Epoch 16/100\n",
            "41/41 [==============================] - 0s 5ms/step - loss: 1.4539 - accuracy: 0.3812 - val_loss: 1.4617 - val_accuracy: 0.3148\n",
            "Epoch 17/100\n",
            "41/41 [==============================] - 0s 5ms/step - loss: 1.4566 - accuracy: 0.3441 - val_loss: 1.4558 - val_accuracy: 0.3426\n",
            "Epoch 18/100\n",
            "41/41 [==============================] - 0s 5ms/step - loss: 1.4386 - accuracy: 0.3812 - val_loss: 1.4500 - val_accuracy: 0.3565\n",
            "Epoch 19/100\n",
            "41/41 [==============================] - 0s 5ms/step - loss: 1.4364 - accuracy: 0.3688 - val_loss: 1.4441 - val_accuracy: 0.3750\n",
            "Epoch 20/100\n",
            "41/41 [==============================] - 0s 5ms/step - loss: 1.4270 - accuracy: 0.3750 - val_loss: 1.4384 - val_accuracy: 0.3843\n",
            "Epoch 21/100\n",
            "41/41 [==============================] - 0s 5ms/step - loss: 1.4205 - accuracy: 0.3873 - val_loss: 1.4327 - val_accuracy: 0.3889\n",
            "Epoch 22/100\n",
            "41/41 [==============================] - 0s 5ms/step - loss: 1.4166 - accuracy: 0.3889 - val_loss: 1.4272 - val_accuracy: 0.3935\n",
            "Epoch 23/100\n",
            "41/41 [==============================] - 0s 5ms/step - loss: 1.4131 - accuracy: 0.3935 - val_loss: 1.4219 - val_accuracy: 0.3981\n",
            "Epoch 24/100\n",
            "41/41 [==============================] - 0s 5ms/step - loss: 1.4116 - accuracy: 0.3951 - val_loss: 1.4166 - val_accuracy: 0.3981\n",
            "Epoch 25/100\n",
            "41/41 [==============================] - 0s 5ms/step - loss: 1.4002 - accuracy: 0.4012 - val_loss: 1.4113 - val_accuracy: 0.4120\n",
            "Epoch 26/100\n",
            "41/41 [==============================] - 0s 5ms/step - loss: 1.4038 - accuracy: 0.3858 - val_loss: 1.4072 - val_accuracy: 0.4074\n",
            "Epoch 27/100\n",
            "41/41 [==============================] - 0s 5ms/step - loss: 1.3940 - accuracy: 0.4259 - val_loss: 1.4024 - val_accuracy: 0.4120\n",
            "Epoch 28/100\n",
            "41/41 [==============================] - 0s 5ms/step - loss: 1.3823 - accuracy: 0.4321 - val_loss: 1.3976 - val_accuracy: 0.4074\n",
            "Epoch 29/100\n",
            "41/41 [==============================] - 0s 5ms/step - loss: 1.3797 - accuracy: 0.4182 - val_loss: 1.3911 - val_accuracy: 0.4167\n",
            "Epoch 30/100\n",
            "41/41 [==============================] - 0s 5ms/step - loss: 1.3753 - accuracy: 0.4275 - val_loss: 1.3860 - val_accuracy: 0.4259\n",
            "Epoch 31/100\n",
            "41/41 [==============================] - 0s 4ms/step - loss: 1.3748 - accuracy: 0.4198 - val_loss: 1.3809 - val_accuracy: 0.4306\n",
            "Epoch 32/100\n",
            "41/41 [==============================] - 0s 5ms/step - loss: 1.3677 - accuracy: 0.4290 - val_loss: 1.3753 - val_accuracy: 0.4398\n",
            "Epoch 33/100\n",
            "41/41 [==============================] - 0s 5ms/step - loss: 1.3698 - accuracy: 0.4182 - val_loss: 1.3707 - val_accuracy: 0.4398\n",
            "Epoch 34/100\n",
            "41/41 [==============================] - 0s 5ms/step - loss: 1.3602 - accuracy: 0.4228 - val_loss: 1.3671 - val_accuracy: 0.4306\n",
            "Epoch 35/100\n",
            "41/41 [==============================] - 0s 5ms/step - loss: 1.3403 - accuracy: 0.4583 - val_loss: 1.3620 - val_accuracy: 0.4306\n",
            "Epoch 36/100\n",
            "41/41 [==============================] - 0s 5ms/step - loss: 1.3444 - accuracy: 0.4429 - val_loss: 1.3556 - val_accuracy: 0.4444\n",
            "Epoch 37/100\n",
            "41/41 [==============================] - 0s 5ms/step - loss: 1.3358 - accuracy: 0.4676 - val_loss: 1.3511 - val_accuracy: 0.4537\n",
            "Epoch 38/100\n",
            "41/41 [==============================] - 0s 5ms/step - loss: 1.3338 - accuracy: 0.4645 - val_loss: 1.3467 - val_accuracy: 0.4444\n",
            "Epoch 39/100\n",
            "41/41 [==============================] - 0s 5ms/step - loss: 1.3284 - accuracy: 0.4352 - val_loss: 1.3397 - val_accuracy: 0.4769\n",
            "Epoch 40/100\n",
            "41/41 [==============================] - 0s 5ms/step - loss: 1.3244 - accuracy: 0.4568 - val_loss: 1.3337 - val_accuracy: 0.4722\n",
            "Epoch 41/100\n",
            "41/41 [==============================] - 0s 5ms/step - loss: 1.3165 - accuracy: 0.4614 - val_loss: 1.3299 - val_accuracy: 0.4722\n",
            "Epoch 42/100\n",
            "41/41 [==============================] - 0s 5ms/step - loss: 1.3183 - accuracy: 0.4846 - val_loss: 1.3250 - val_accuracy: 0.4722\n",
            "Epoch 43/100\n",
            "41/41 [==============================] - 0s 5ms/step - loss: 1.3136 - accuracy: 0.4660 - val_loss: 1.3196 - val_accuracy: 0.4722\n",
            "Epoch 44/100\n",
            "41/41 [==============================] - 0s 5ms/step - loss: 1.3012 - accuracy: 0.4676 - val_loss: 1.3172 - val_accuracy: 0.4769\n",
            "Epoch 45/100\n",
            "41/41 [==============================] - 0s 5ms/step - loss: 1.2975 - accuracy: 0.4861 - val_loss: 1.3083 - val_accuracy: 0.4722\n",
            "Epoch 46/100\n",
            "41/41 [==============================] - 0s 5ms/step - loss: 1.3062 - accuracy: 0.4537 - val_loss: 1.3052 - val_accuracy: 0.4722\n",
            "Epoch 47/100\n",
            "41/41 [==============================] - 0s 5ms/step - loss: 1.2960 - accuracy: 0.4815 - val_loss: 1.3043 - val_accuracy: 0.4491\n",
            "Epoch 48/100\n",
            "41/41 [==============================] - 0s 5ms/step - loss: 1.2923 - accuracy: 0.4769 - val_loss: 1.2926 - val_accuracy: 0.4907\n",
            "Epoch 49/100\n",
            "41/41 [==============================] - 0s 5ms/step - loss: 1.2662 - accuracy: 0.4954 - val_loss: 1.2866 - val_accuracy: 0.4722\n",
            "Epoch 50/100\n",
            "41/41 [==============================] - 0s 5ms/step - loss: 1.2795 - accuracy: 0.4877 - val_loss: 1.2808 - val_accuracy: 0.5046\n",
            "Epoch 51/100\n",
            "41/41 [==============================] - 0s 5ms/step - loss: 1.2662 - accuracy: 0.4660 - val_loss: 1.2772 - val_accuracy: 0.5093\n",
            "Epoch 52/100\n",
            "41/41 [==============================] - 0s 5ms/step - loss: 1.2754 - accuracy: 0.4722 - val_loss: 1.2735 - val_accuracy: 0.4815\n",
            "Epoch 53/100\n",
            "41/41 [==============================] - 0s 5ms/step - loss: 1.2700 - accuracy: 0.4830 - val_loss: 1.2671 - val_accuracy: 0.5093\n",
            "Epoch 54/100\n",
            "41/41 [==============================] - 0s 5ms/step - loss: 1.2494 - accuracy: 0.4954 - val_loss: 1.2619 - val_accuracy: 0.4907\n",
            "Epoch 55/100\n",
            "41/41 [==============================] - 0s 5ms/step - loss: 1.2551 - accuracy: 0.5139 - val_loss: 1.2594 - val_accuracy: 0.4769\n",
            "Epoch 56/100\n",
            "41/41 [==============================] - 0s 5ms/step - loss: 1.2363 - accuracy: 0.4969 - val_loss: 1.2505 - val_accuracy: 0.5046\n",
            "Epoch 57/100\n",
            "41/41 [==============================] - 0s 5ms/step - loss: 1.2349 - accuracy: 0.5170 - val_loss: 1.2496 - val_accuracy: 0.5046\n",
            "Epoch 58/100\n",
            "41/41 [==============================] - 0s 5ms/step - loss: 1.2229 - accuracy: 0.5123 - val_loss: 1.2424 - val_accuracy: 0.5185\n",
            "Epoch 59/100\n",
            "41/41 [==============================] - 0s 5ms/step - loss: 1.2215 - accuracy: 0.5046 - val_loss: 1.2362 - val_accuracy: 0.5278\n",
            "Epoch 60/100\n",
            "41/41 [==============================] - 0s 5ms/step - loss: 1.2189 - accuracy: 0.5293 - val_loss: 1.2313 - val_accuracy: 0.5046\n",
            "Epoch 61/100\n",
            "41/41 [==============================] - 0s 5ms/step - loss: 1.2084 - accuracy: 0.5108 - val_loss: 1.2280 - val_accuracy: 0.5139\n",
            "Epoch 62/100\n",
            "41/41 [==============================] - 0s 5ms/step - loss: 1.2097 - accuracy: 0.5154 - val_loss: 1.2216 - val_accuracy: 0.5231\n",
            "Epoch 63/100\n",
            "41/41 [==============================] - 0s 5ms/step - loss: 1.2009 - accuracy: 0.5401 - val_loss: 1.2157 - val_accuracy: 0.5231\n",
            "Epoch 64/100\n",
            "41/41 [==============================] - 0s 5ms/step - loss: 1.1878 - accuracy: 0.5247 - val_loss: 1.2090 - val_accuracy: 0.5324\n",
            "Epoch 65/100\n",
            "41/41 [==============================] - 0s 5ms/step - loss: 1.1912 - accuracy: 0.5309 - val_loss: 1.2043 - val_accuracy: 0.5278\n",
            "Epoch 66/100\n",
            "41/41 [==============================] - 0s 5ms/step - loss: 1.1824 - accuracy: 0.5417 - val_loss: 1.1978 - val_accuracy: 0.5278\n",
            "Epoch 67/100\n",
            "41/41 [==============================] - 0s 5ms/step - loss: 1.1776 - accuracy: 0.5108 - val_loss: 1.1921 - val_accuracy: 0.5278\n",
            "Epoch 68/100\n",
            "41/41 [==============================] - 0s 5ms/step - loss: 1.1790 - accuracy: 0.5355 - val_loss: 1.1874 - val_accuracy: 0.5417\n",
            "Epoch 69/100\n",
            "41/41 [==============================] - 0s 5ms/step - loss: 1.1856 - accuracy: 0.5525 - val_loss: 1.1883 - val_accuracy: 0.5139\n",
            "Epoch 70/100\n",
            "41/41 [==============================] - 0s 5ms/step - loss: 1.1670 - accuracy: 0.5540 - val_loss: 1.1814 - val_accuracy: 0.5139\n",
            "Epoch 71/100\n",
            "41/41 [==============================] - 0s 5ms/step - loss: 1.1640 - accuracy: 0.5355 - val_loss: 1.1760 - val_accuracy: 0.5370\n",
            "Epoch 72/100\n",
            "41/41 [==============================] - 0s 5ms/step - loss: 1.1563 - accuracy: 0.5262 - val_loss: 1.1733 - val_accuracy: 0.5370\n",
            "Epoch 73/100\n",
            "41/41 [==============================] - 0s 5ms/step - loss: 1.1459 - accuracy: 0.5432 - val_loss: 1.1640 - val_accuracy: 0.5324\n",
            "Epoch 74/100\n",
            "41/41 [==============================] - 0s 5ms/step - loss: 1.1503 - accuracy: 0.5494 - val_loss: 1.1618 - val_accuracy: 0.5324\n",
            "Epoch 75/100\n",
            "41/41 [==============================] - 0s 5ms/step - loss: 1.1401 - accuracy: 0.5478 - val_loss: 1.1561 - val_accuracy: 0.5417\n",
            "Epoch 76/100\n",
            "41/41 [==============================] - 0s 5ms/step - loss: 1.1420 - accuracy: 0.5324 - val_loss: 1.1506 - val_accuracy: 0.5370\n",
            "Epoch 77/100\n",
            "41/41 [==============================] - 0s 5ms/step - loss: 1.1322 - accuracy: 0.5617 - val_loss: 1.1458 - val_accuracy: 0.5324\n",
            "Epoch 78/100\n",
            "41/41 [==============================] - 0s 5ms/step - loss: 1.1275 - accuracy: 0.5571 - val_loss: 1.1416 - val_accuracy: 0.5278\n",
            "Epoch 79/100\n",
            "41/41 [==============================] - 0s 5ms/step - loss: 1.1328 - accuracy: 0.5664 - val_loss: 1.1393 - val_accuracy: 0.5185\n",
            "Epoch 80/100\n",
            "41/41 [==============================] - 0s 5ms/step - loss: 1.1232 - accuracy: 0.5448 - val_loss: 1.1374 - val_accuracy: 0.5185\n",
            "Epoch 81/100\n",
            "41/41 [==============================] - 0s 5ms/step - loss: 1.1108 - accuracy: 0.5617 - val_loss: 1.1352 - val_accuracy: 0.5139\n",
            "Epoch 82/100\n",
            "41/41 [==============================] - 0s 5ms/step - loss: 1.1049 - accuracy: 0.5694 - val_loss: 1.1280 - val_accuracy: 0.5324\n",
            "Epoch 83/100\n",
            "41/41 [==============================] - 0s 5ms/step - loss: 1.0944 - accuracy: 0.5957 - val_loss: 1.1292 - val_accuracy: 0.5093\n",
            "Epoch 84/100\n",
            "41/41 [==============================] - 0s 5ms/step - loss: 1.1094 - accuracy: 0.5602 - val_loss: 1.1226 - val_accuracy: 0.5231\n",
            "Epoch 85/100\n",
            "41/41 [==============================] - 0s 5ms/step - loss: 1.0946 - accuracy: 0.5787 - val_loss: 1.1166 - val_accuracy: 0.5139\n",
            "Epoch 86/100\n",
            "41/41 [==============================] - 0s 5ms/step - loss: 1.0892 - accuracy: 0.5833 - val_loss: 1.1257 - val_accuracy: 0.5278\n",
            "Epoch 87/100\n",
            "41/41 [==============================] - 0s 5ms/step - loss: 1.0959 - accuracy: 0.5586 - val_loss: 1.1100 - val_accuracy: 0.5231\n",
            "Epoch 88/100\n",
            "41/41 [==============================] - 0s 5ms/step - loss: 1.0815 - accuracy: 0.5772 - val_loss: 1.1086 - val_accuracy: 0.5231\n",
            "Epoch 89/100\n",
            "41/41 [==============================] - 0s 5ms/step - loss: 1.0985 - accuracy: 0.5571 - val_loss: 1.1026 - val_accuracy: 0.5278\n",
            "Epoch 90/100\n",
            "41/41 [==============================] - 0s 5ms/step - loss: 1.0819 - accuracy: 0.5741 - val_loss: 1.0995 - val_accuracy: 0.5278\n",
            "Epoch 91/100\n",
            "41/41 [==============================] - 0s 5ms/step - loss: 1.0703 - accuracy: 0.5910 - val_loss: 1.1007 - val_accuracy: 0.5278\n",
            "Epoch 92/100\n",
            "41/41 [==============================] - 0s 5ms/step - loss: 1.0508 - accuracy: 0.6157 - val_loss: 1.0893 - val_accuracy: 0.5278\n",
            "Epoch 93/100\n",
            "41/41 [==============================] - 0s 5ms/step - loss: 1.0665 - accuracy: 0.5741 - val_loss: 1.0933 - val_accuracy: 0.5278\n",
            "Epoch 94/100\n",
            "41/41 [==============================] - 0s 5ms/step - loss: 1.0498 - accuracy: 0.6034 - val_loss: 1.0863 - val_accuracy: 0.5370\n",
            "Epoch 95/100\n",
            "41/41 [==============================] - 0s 5ms/step - loss: 1.0481 - accuracy: 0.5988 - val_loss: 1.0839 - val_accuracy: 0.5370\n",
            "Epoch 96/100\n",
            "41/41 [==============================] - 0s 5ms/step - loss: 1.0490 - accuracy: 0.5941 - val_loss: 1.0826 - val_accuracy: 0.5324\n",
            "Epoch 97/100\n",
            "41/41 [==============================] - 0s 5ms/step - loss: 1.0378 - accuracy: 0.6049 - val_loss: 1.0754 - val_accuracy: 0.5278\n",
            "Epoch 98/100\n",
            "41/41 [==============================] - 0s 5ms/step - loss: 1.0351 - accuracy: 0.5926 - val_loss: 1.0802 - val_accuracy: 0.5463\n",
            "Epoch 99/100\n",
            "41/41 [==============================] - 0s 5ms/step - loss: 1.0291 - accuracy: 0.5895 - val_loss: 1.0718 - val_accuracy: 0.5278\n",
            "Epoch 100/100\n",
            "41/41 [==============================] - 0s 5ms/step - loss: 1.0399 - accuracy: 0.5864 - val_loss: 1.0652 - val_accuracy: 0.5324\n"
          ],
          "name": "stdout"
        }
      ]
    },
    {
      "cell_type": "code",
      "metadata": {
        "colab": {
          "base_uri": "https://localhost:8080/"
        },
        "id": "HMIoF-OVjZa6",
        "outputId": "1a54ad81-28df-4f77-f8c0-374382eef3da"
      },
      "source": [
        "loss, accuracy = model.evaluate(X_train_dim, y_train, verbose=True)\n",
        "print(\"Training Accuracy: {:.4f}\".format(accuracy))\n",
        "loss, accuracy = model.evaluate(X_test_dim, y_test, verbose=False)\n",
        "print(\"Testing Accuracy:  {:.4f}\".format(accuracy))\n",
        "\n",
        "y_pred=model.predict(X_test_dim, batch_size=200, verbose=1)\n",
        "report = classification_report(y_test, y_pred.round())\n",
        "print(report)"
      ],
      "execution_count": 117,
      "outputs": [
        {
          "output_type": "stream",
          "text": [
            "21/21 [==============================] - 0s 2ms/step - loss: 0.9942 - accuracy: 0.6343\n",
            "Training Accuracy: 0.6343\n",
            "Testing Accuracy:  0.5324\n",
            "WARNING:tensorflow:5 out of the last 9 calls to <function Model.make_predict_function.<locals>.predict_function at 0x7fdc94eb01e0> triggered tf.function retracing. Tracing is expensive and the excessive number of tracings could be due to (1) creating @tf.function repeatedly in a loop, (2) passing tensors with different shapes, (3) passing Python objects instead of tensors. For (1), please define your @tf.function outside of the loop. For (2), @tf.function has experimental_relax_shapes=True option that relaxes argument shapes that can avoid unnecessary retracing. For (3), please refer to https://www.tensorflow.org/tutorials/customization/performance#python_or_tensor_args and https://www.tensorflow.org/api_docs/python/tf/function for  more details.\n",
            "2/2 [==============================] - 0s 4ms/step\n",
            "              precision    recall  f1-score   support\n",
            "\n",
            "           0       0.97      0.59      0.73        51\n",
            "           1       0.59      0.22      0.32        46\n",
            "           2       0.71      0.27      0.39        44\n",
            "           3       0.00      0.00      0.00        26\n",
            "           4       1.00      0.08      0.15        49\n",
            "\n",
            "   micro avg       0.81      0.26      0.39       216\n",
            "   macro avg       0.65      0.23      0.32       216\n",
            "weighted avg       0.72      0.26      0.35       216\n",
            " samples avg       0.26      0.26      0.26       216\n",
            "\n"
          ],
          "name": "stdout"
        },
        {
          "output_type": "stream",
          "text": [
            "/usr/local/lib/python3.6/dist-packages/sklearn/metrics/_classification.py:1272: UndefinedMetricWarning: Precision and F-score are ill-defined and being set to 0.0 in labels with no predicted samples. Use `zero_division` parameter to control this behavior.\n",
            "  _warn_prf(average, modifier, msg_start, len(result))\n",
            "/usr/local/lib/python3.6/dist-packages/sklearn/metrics/_classification.py:1272: UndefinedMetricWarning: Precision and F-score are ill-defined and being set to 0.0 in samples with no predicted labels. Use `zero_division` parameter to control this behavior.\n",
            "  _warn_prf(average, modifier, msg_start, len(result))\n"
          ],
          "name": "stderr"
        }
      ]
    },
    {
      "cell_type": "code",
      "metadata": {
        "colab": {
          "base_uri": "https://localhost:8080/",
          "height": 295
        },
        "id": "IDe8NLSdSvb6",
        "outputId": "60d73f21-cb61-4fbe-e64f-f0078395b928"
      },
      "source": [
        "plt.plot(history.history['accuracy'])\n",
        "plt.plot(history.history['val_accuracy'])\n",
        "plt.title('model accuracy')\n",
        "plt.ylabel('accuracy')\n",
        "plt.xlabel('epoch')\n",
        "plt.legend(['train', 'test'], loc='upper left')\n",
        "plt.show()"
      ],
      "execution_count": 118,
      "outputs": [
        {
          "output_type": "display_data",
          "data": {
            "image/png": "[encoded data removed]",
            "text/plain": [
              "<Figure size 432x288 with 1 Axes>"
            ]
          },
          "metadata": {
            "tags": [],
            "needs_background": "light"
          }
        }
      ]
    },
    {
      "cell_type": "code",
      "metadata": {
        "colab": {
          "base_uri": "https://localhost:8080/",
          "height": 295
        },
        "id": "SJfTr5kaS31e",
        "outputId": "3b0bf330-ebec-460b-b58f-72fd0bd04efc"
      },
      "source": [
        "plt.plot(history.history['loss'])\n",
        "plt.plot(history.history['val_loss'])\n",
        "plt.title('model loss')\n",
        "plt.ylabel('loss')\n",
        "plt.xlabel('epoch')\n",
        "plt.legend(['train', 'test'], loc='upper left')\n",
        "plt.show()"
      ],
      "execution_count": 119,
      "outputs": [
        {
          "output_type": "display_data",
          "data": {
            "image/png": "[encoded data removed]",
            "text/plain": [
              "<Figure size 432x288 with 1 Axes>"
            ]
          },
          "metadata": {
            "tags": [],
            "needs_background": "light"
          }
        }
      ]
    },
    {
      "cell_type": "markdown",
      "metadata": {
        "id": "T37ekU99iPyC"
      },
      "source": [
        "# Another CNN"
      ]
    },
    {
      "cell_type": "code",
      "metadata": {
        "id": "8QAc7AnriPyC"
      },
      "source": [
        "CNN_model = Sequential()\n",
        "\n",
        "CNN_model.add(Conv1D(16, 5,padding='same',input_shape=(47, 1), activation='relu'))\n",
        "CNN_model.add(Conv1D(32, 5,padding='same',activation='relu'))\n",
        "CNN_model.add(Dropout(0.6))\n",
        "CNN_model.add(Flatten())\n",
        "CNN_model.add(Dense(64, activation ='relu'))\n",
        "CNN_model.add(Dropout(0.1))\n",
        "CNN_model.add(Dense(32, activation ='relu'))\n",
        "CNN_model.add(Dense(5, activation='softmax'))"
      ],
      "execution_count": 107,
      "outputs": []
    },
    {
      "cell_type": "code",
      "metadata": {
        "colab": {
          "base_uri": "https://localhost:8080/"
        },
        "id": "Gq3WdQJBkn-C",
        "outputId": "c590c12d-46c6-460b-d866-6f00844d1c88"
      },
      "source": [
        "CNN_model.summary()"
      ],
      "execution_count": 108,
      "outputs": [
        {
          "output_type": "stream",
          "text": [
            "Model: \"sequential_16\"\n",
            "_________________________________________________________________\n",
            "Layer (type)                 Output Shape              Param #   \n",
            "=================================================================\n",
            "conv1d_49 (Conv1D)           (None, 47, 16)            96        \n",
            "_________________________________________________________________\n",
            "conv1d_50 (Conv1D)           (None, 47, 32)            2592      \n",
            "_________________________________________________________________\n",
            "dropout_34 (Dropout)         (None, 47, 32)            0         \n",
            "_________________________________________________________________\n",
            "flatten_16 (Flatten)         (None, 1504)              0         \n",
            "_________________________________________________________________\n",
            "dense_46 (Dense)             (None, 64)                96320     \n",
            "_________________________________________________________________\n",
            "dropout_35 (Dropout)         (None, 64)                0         \n",
            "_________________________________________________________________\n",
            "dense_47 (Dense)             (None, 32)                2080      \n",
            "_________________________________________________________________\n",
            "dense_48 (Dense)             (None, 5)                 165       \n",
            "=================================================================\n",
            "Total params: 101,253\n",
            "Trainable params: 101,253\n",
            "Non-trainable params: 0\n",
            "_________________________________________________________________\n"
          ],
          "name": "stdout"
        }
      ]
    },
    {
      "cell_type": "code",
      "metadata": {
        "id": "-eNrTK42iPyD"
      },
      "source": [
        "CNN_model.compile(loss='categorical_crossentropy',\n",
        "                  optimizer=keras.optimizers.Adam(lr=0.0001),\n",
        "                  metrics=['accuracy'])"
      ],
      "execution_count": 109,
      "outputs": []
    },
    {
      "cell_type": "code",
      "metadata": {
        "colab": {
          "base_uri": "https://localhost:8080/"
        },
        "id": "0YC8LPl3iPyD",
        "outputId": "bd740cbe-1d6f-4300-c871-7fbe2093b666"
      },
      "source": [
        "history = CNN_model.fit(X_train_dim,\n",
        "                        np.asarray(y_train), \n",
        "                        batch_size=16, \n",
        "                        epochs = 100, \n",
        "                        validation_data=(X_test_dim, np.asarray(y_test)))"
      ],
      "execution_count": 110,
      "outputs": [
        {
          "output_type": "stream",
          "text": [
            "Epoch 1/100\n",
            "41/41 [==============================] - 0s 8ms/step - loss: 1.6190 - accuracy: 0.2392 - val_loss: 1.5751 - val_accuracy: 0.2546\n",
            "Epoch 2/100\n",
            "41/41 [==============================] - 0s 4ms/step - loss: 1.5646 - accuracy: 0.2654 - val_loss: 1.5422 - val_accuracy: 0.3889\n",
            "Epoch 3/100\n",
            "41/41 [==============================] - 0s 4ms/step - loss: 1.5318 - accuracy: 0.3349 - val_loss: 1.5120 - val_accuracy: 0.3935\n",
            "Epoch 4/100\n",
            "41/41 [==============================] - 0s 4ms/step - loss: 1.4906 - accuracy: 0.3627 - val_loss: 1.4783 - val_accuracy: 0.3704\n",
            "Epoch 5/100\n",
            "41/41 [==============================] - 0s 4ms/step - loss: 1.4627 - accuracy: 0.3549 - val_loss: 1.4432 - val_accuracy: 0.3981\n",
            "Epoch 6/100\n",
            "41/41 [==============================] - 0s 5ms/step - loss: 1.4337 - accuracy: 0.3966 - val_loss: 1.4098 - val_accuracy: 0.4213\n",
            "Epoch 7/100\n",
            "41/41 [==============================] - 0s 4ms/step - loss: 1.4087 - accuracy: 0.3889 - val_loss: 1.3817 - val_accuracy: 0.4120\n",
            "Epoch 8/100\n",
            "41/41 [==============================] - 0s 5ms/step - loss: 1.3634 - accuracy: 0.4259 - val_loss: 1.3465 - val_accuracy: 0.4167\n",
            "Epoch 9/100\n",
            "41/41 [==============================] - 0s 5ms/step - loss: 1.3372 - accuracy: 0.4599 - val_loss: 1.3207 - val_accuracy: 0.4120\n",
            "Epoch 10/100\n",
            "41/41 [==============================] - 0s 5ms/step - loss: 1.2961 - accuracy: 0.4660 - val_loss: 1.2865 - val_accuracy: 0.4444\n",
            "Epoch 11/100\n",
            "41/41 [==============================] - 0s 5ms/step - loss: 1.2890 - accuracy: 0.4645 - val_loss: 1.2526 - val_accuracy: 0.4769\n",
            "Epoch 12/100\n",
            "41/41 [==============================] - 0s 4ms/step - loss: 1.2733 - accuracy: 0.4444 - val_loss: 1.2341 - val_accuracy: 0.4722\n",
            "Epoch 13/100\n",
            "41/41 [==============================] - 0s 4ms/step - loss: 1.2397 - accuracy: 0.4907 - val_loss: 1.2007 - val_accuracy: 0.4861\n",
            "Epoch 14/100\n",
            "41/41 [==============================] - 0s 4ms/step - loss: 1.1958 - accuracy: 0.5077 - val_loss: 1.1814 - val_accuracy: 0.5046\n",
            "Epoch 15/100\n",
            "41/41 [==============================] - 0s 5ms/step - loss: 1.1775 - accuracy: 0.5278 - val_loss: 1.1519 - val_accuracy: 0.5370\n",
            "Epoch 16/100\n",
            "41/41 [==============================] - 0s 4ms/step - loss: 1.1631 - accuracy: 0.5355 - val_loss: 1.1324 - val_accuracy: 0.5370\n",
            "Epoch 17/100\n",
            "41/41 [==============================] - 0s 5ms/step - loss: 1.1291 - accuracy: 0.5494 - val_loss: 1.1069 - val_accuracy: 0.5463\n",
            "Epoch 18/100\n",
            "41/41 [==============================] - 0s 4ms/step - loss: 1.1110 - accuracy: 0.5509 - val_loss: 1.0854 - val_accuracy: 0.5556\n",
            "Epoch 19/100\n",
            "41/41 [==============================] - 0s 4ms/step - loss: 1.0955 - accuracy: 0.5679 - val_loss: 1.0656 - val_accuracy: 0.5602\n",
            "Epoch 20/100\n",
            "41/41 [==============================] - 0s 4ms/step - loss: 1.0634 - accuracy: 0.5679 - val_loss: 1.0484 - val_accuracy: 0.5694\n",
            "Epoch 21/100\n",
            "41/41 [==============================] - 0s 5ms/step - loss: 1.0575 - accuracy: 0.5864 - val_loss: 1.0384 - val_accuracy: 0.5694\n",
            "Epoch 22/100\n",
            "41/41 [==============================] - 0s 4ms/step - loss: 1.0202 - accuracy: 0.6096 - val_loss: 1.0285 - val_accuracy: 0.5926\n",
            "Epoch 23/100\n",
            "41/41 [==============================] - 0s 5ms/step - loss: 1.0297 - accuracy: 0.5787 - val_loss: 1.0134 - val_accuracy: 0.5833\n",
            "Epoch 24/100\n",
            "41/41 [==============================] - 0s 4ms/step - loss: 0.9866 - accuracy: 0.6265 - val_loss: 1.0069 - val_accuracy: 0.5880\n",
            "Epoch 25/100\n",
            "41/41 [==============================] - 0s 5ms/step - loss: 0.9872 - accuracy: 0.5988 - val_loss: 0.9884 - val_accuracy: 0.5926\n",
            "Epoch 26/100\n",
            "41/41 [==============================] - 0s 5ms/step - loss: 0.9773 - accuracy: 0.6204 - val_loss: 0.9952 - val_accuracy: 0.6019\n",
            "Epoch 27/100\n",
            "41/41 [==============================] - 0s 4ms/step - loss: 0.9690 - accuracy: 0.6003 - val_loss: 0.9680 - val_accuracy: 0.6065\n",
            "Epoch 28/100\n",
            "41/41 [==============================] - 0s 5ms/step - loss: 0.9484 - accuracy: 0.6142 - val_loss: 0.9715 - val_accuracy: 0.6019\n",
            "Epoch 29/100\n",
            "41/41 [==============================] - 0s 5ms/step - loss: 0.9449 - accuracy: 0.5972 - val_loss: 0.9628 - val_accuracy: 0.5926\n",
            "Epoch 30/100\n",
            "41/41 [==============================] - 0s 4ms/step - loss: 0.9177 - accuracy: 0.6127 - val_loss: 0.9478 - val_accuracy: 0.6019\n",
            "Epoch 31/100\n",
            "41/41 [==============================] - 0s 5ms/step - loss: 0.9251 - accuracy: 0.6142 - val_loss: 0.9417 - val_accuracy: 0.5972\n",
            "Epoch 32/100\n",
            "41/41 [==============================] - 0s 5ms/step - loss: 0.9082 - accuracy: 0.6512 - val_loss: 0.9331 - val_accuracy: 0.6250\n",
            "Epoch 33/100\n",
            "41/41 [==============================] - 0s 4ms/step - loss: 0.8893 - accuracy: 0.6404 - val_loss: 0.9236 - val_accuracy: 0.6250\n",
            "Epoch 34/100\n",
            "41/41 [==============================] - 0s 4ms/step - loss: 0.8745 - accuracy: 0.6590 - val_loss: 0.9130 - val_accuracy: 0.6250\n",
            "Epoch 35/100\n",
            "41/41 [==============================] - 0s 4ms/step - loss: 0.8433 - accuracy: 0.6481 - val_loss: 0.9139 - val_accuracy: 0.6204\n",
            "Epoch 36/100\n",
            "41/41 [==============================] - 0s 4ms/step - loss: 0.8515 - accuracy: 0.6636 - val_loss: 0.9078 - val_accuracy: 0.6528\n",
            "Epoch 37/100\n",
            "41/41 [==============================] - 0s 5ms/step - loss: 0.8607 - accuracy: 0.6435 - val_loss: 0.8891 - val_accuracy: 0.6296\n",
            "Epoch 38/100\n",
            "41/41 [==============================] - 0s 4ms/step - loss: 0.8250 - accuracy: 0.6898 - val_loss: 0.8985 - val_accuracy: 0.6204\n",
            "Epoch 39/100\n",
            "41/41 [==============================] - 0s 5ms/step - loss: 0.8364 - accuracy: 0.6497 - val_loss: 0.8937 - val_accuracy: 0.6250\n",
            "Epoch 40/100\n",
            "41/41 [==============================] - 0s 4ms/step - loss: 0.7955 - accuracy: 0.6821 - val_loss: 0.8897 - val_accuracy: 0.6481\n",
            "Epoch 41/100\n",
            "41/41 [==============================] - 0s 5ms/step - loss: 0.8117 - accuracy: 0.6759 - val_loss: 0.8948 - val_accuracy: 0.6343\n",
            "Epoch 42/100\n",
            "41/41 [==============================] - 0s 4ms/step - loss: 0.8085 - accuracy: 0.6698 - val_loss: 0.8841 - val_accuracy: 0.6250\n",
            "Epoch 43/100\n",
            "41/41 [==============================] - 0s 5ms/step - loss: 0.8444 - accuracy: 0.6620 - val_loss: 0.8940 - val_accuracy: 0.6250\n",
            "Epoch 44/100\n",
            "41/41 [==============================] - 0s 4ms/step - loss: 0.7843 - accuracy: 0.6806 - val_loss: 0.8832 - val_accuracy: 0.6204\n",
            "Epoch 45/100\n",
            "41/41 [==============================] - 0s 4ms/step - loss: 0.7940 - accuracy: 0.6867 - val_loss: 0.8774 - val_accuracy: 0.6435\n",
            "Epoch 46/100\n",
            "41/41 [==============================] - 0s 4ms/step - loss: 0.7889 - accuracy: 0.6852 - val_loss: 0.8777 - val_accuracy: 0.6389\n",
            "Epoch 47/100\n",
            "41/41 [==============================] - 0s 5ms/step - loss: 0.7896 - accuracy: 0.6929 - val_loss: 0.8736 - val_accuracy: 0.6389\n",
            "Epoch 48/100\n",
            "41/41 [==============================] - 0s 5ms/step - loss: 0.7654 - accuracy: 0.7222 - val_loss: 0.8760 - val_accuracy: 0.6296\n",
            "Epoch 49/100\n",
            "41/41 [==============================] - 0s 5ms/step - loss: 0.7531 - accuracy: 0.7130 - val_loss: 0.8750 - val_accuracy: 0.6389\n",
            "Epoch 50/100\n",
            "41/41 [==============================] - 0s 5ms/step - loss: 0.7475 - accuracy: 0.7222 - val_loss: 0.8622 - val_accuracy: 0.6296\n",
            "Epoch 51/100\n",
            "41/41 [==============================] - 0s 5ms/step - loss: 0.7536 - accuracy: 0.7006 - val_loss: 0.8577 - val_accuracy: 0.6389\n",
            "Epoch 52/100\n",
            "41/41 [==============================] - 0s 5ms/step - loss: 0.7271 - accuracy: 0.7068 - val_loss: 0.8525 - val_accuracy: 0.6435\n",
            "Epoch 53/100\n",
            "41/41 [==============================] - 0s 4ms/step - loss: 0.7043 - accuracy: 0.7392 - val_loss: 0.8513 - val_accuracy: 0.6481\n",
            "Epoch 54/100\n",
            "41/41 [==============================] - 0s 4ms/step - loss: 0.7251 - accuracy: 0.7114 - val_loss: 0.8558 - val_accuracy: 0.6343\n",
            "Epoch 55/100\n",
            "41/41 [==============================] - 0s 4ms/step - loss: 0.7359 - accuracy: 0.7083 - val_loss: 0.8618 - val_accuracy: 0.6343\n",
            "Epoch 56/100\n",
            "41/41 [==============================] - 0s 4ms/step - loss: 0.7134 - accuracy: 0.7238 - val_loss: 0.8348 - val_accuracy: 0.6389\n",
            "Epoch 57/100\n",
            "41/41 [==============================] - 0s 4ms/step - loss: 0.6737 - accuracy: 0.7330 - val_loss: 0.8420 - val_accuracy: 0.6389\n",
            "Epoch 58/100\n",
            "41/41 [==============================] - 0s 4ms/step - loss: 0.6798 - accuracy: 0.7423 - val_loss: 0.8294 - val_accuracy: 0.6435\n",
            "Epoch 59/100\n",
            "41/41 [==============================] - 0s 4ms/step - loss: 0.7084 - accuracy: 0.7238 - val_loss: 0.8539 - val_accuracy: 0.6296\n",
            "Epoch 60/100\n",
            "41/41 [==============================] - 0s 5ms/step - loss: 0.7096 - accuracy: 0.7253 - val_loss: 0.8301 - val_accuracy: 0.6435\n",
            "Epoch 61/100\n",
            "41/41 [==============================] - 0s 4ms/step - loss: 0.6805 - accuracy: 0.7485 - val_loss: 0.8295 - val_accuracy: 0.6389\n",
            "Epoch 62/100\n",
            "41/41 [==============================] - 0s 4ms/step - loss: 0.6850 - accuracy: 0.7222 - val_loss: 0.8333 - val_accuracy: 0.6481\n",
            "Epoch 63/100\n",
            "41/41 [==============================] - 0s 4ms/step - loss: 0.6967 - accuracy: 0.7361 - val_loss: 0.8101 - val_accuracy: 0.6481\n",
            "Epoch 64/100\n",
            "41/41 [==============================] - 0s 5ms/step - loss: 0.6601 - accuracy: 0.7160 - val_loss: 0.8199 - val_accuracy: 0.6574\n",
            "Epoch 65/100\n",
            "41/41 [==============================] - 0s 5ms/step - loss: 0.6478 - accuracy: 0.7515 - val_loss: 0.8264 - val_accuracy: 0.6481\n",
            "Epoch 66/100\n",
            "41/41 [==============================] - 0s 4ms/step - loss: 0.6722 - accuracy: 0.7531 - val_loss: 0.8223 - val_accuracy: 0.6481\n",
            "Epoch 67/100\n",
            "41/41 [==============================] - 0s 5ms/step - loss: 0.6300 - accuracy: 0.7654 - val_loss: 0.8177 - val_accuracy: 0.6481\n",
            "Epoch 68/100\n",
            "41/41 [==============================] - 0s 4ms/step - loss: 0.6152 - accuracy: 0.7762 - val_loss: 0.8138 - val_accuracy: 0.6435\n",
            "Epoch 69/100\n",
            "41/41 [==============================] - 0s 5ms/step - loss: 0.6655 - accuracy: 0.7423 - val_loss: 0.8175 - val_accuracy: 0.6481\n",
            "Epoch 70/100\n",
            "41/41 [==============================] - 0s 4ms/step - loss: 0.6557 - accuracy: 0.7454 - val_loss: 0.8239 - val_accuracy: 0.6667\n",
            "Epoch 71/100\n",
            "41/41 [==============================] - 0s 5ms/step - loss: 0.6283 - accuracy: 0.7670 - val_loss: 0.8153 - val_accuracy: 0.6667\n",
            "Epoch 72/100\n",
            "41/41 [==============================] - 0s 4ms/step - loss: 0.6218 - accuracy: 0.7639 - val_loss: 0.8017 - val_accuracy: 0.6667\n",
            "Epoch 73/100\n",
            "41/41 [==============================] - 0s 5ms/step - loss: 0.6234 - accuracy: 0.7531 - val_loss: 0.8039 - val_accuracy: 0.6528\n",
            "Epoch 74/100\n",
            "41/41 [==============================] - 0s 5ms/step - loss: 0.6217 - accuracy: 0.7623 - val_loss: 0.7892 - val_accuracy: 0.6667\n",
            "Epoch 75/100\n",
            "41/41 [==============================] - 0s 5ms/step - loss: 0.6137 - accuracy: 0.7670 - val_loss: 0.7837 - val_accuracy: 0.6574\n",
            "Epoch 76/100\n",
            "41/41 [==============================] - 0s 4ms/step - loss: 0.6295 - accuracy: 0.7577 - val_loss: 0.8113 - val_accuracy: 0.6713\n",
            "Epoch 77/100\n",
            "41/41 [==============================] - 0s 5ms/step - loss: 0.6377 - accuracy: 0.7701 - val_loss: 0.7917 - val_accuracy: 0.6620\n",
            "Epoch 78/100\n",
            "41/41 [==============================] - 0s 4ms/step - loss: 0.5913 - accuracy: 0.7747 - val_loss: 0.7991 - val_accuracy: 0.6574\n",
            "Epoch 79/100\n",
            "41/41 [==============================] - 0s 5ms/step - loss: 0.5793 - accuracy: 0.7840 - val_loss: 0.7832 - val_accuracy: 0.6574\n",
            "Epoch 80/100\n",
            "41/41 [==============================] - 0s 4ms/step - loss: 0.6277 - accuracy: 0.7593 - val_loss: 0.7790 - val_accuracy: 0.6713\n",
            "Epoch 81/100\n",
            "41/41 [==============================] - 0s 5ms/step - loss: 0.5852 - accuracy: 0.7870 - val_loss: 0.7790 - val_accuracy: 0.6667\n",
            "Epoch 82/100\n",
            "41/41 [==============================] - 0s 4ms/step - loss: 0.5746 - accuracy: 0.7778 - val_loss: 0.7881 - val_accuracy: 0.6574\n",
            "Epoch 83/100\n",
            "41/41 [==============================] - 0s 5ms/step - loss: 0.6194 - accuracy: 0.7562 - val_loss: 0.7816 - val_accuracy: 0.6528\n",
            "Epoch 84/100\n",
            "41/41 [==============================] - 0s 4ms/step - loss: 0.6018 - accuracy: 0.7685 - val_loss: 0.7956 - val_accuracy: 0.6528\n",
            "Epoch 85/100\n",
            "41/41 [==============================] - 0s 5ms/step - loss: 0.5836 - accuracy: 0.7809 - val_loss: 0.7833 - val_accuracy: 0.6528\n",
            "Epoch 86/100\n",
            "41/41 [==============================] - 0s 5ms/step - loss: 0.5859 - accuracy: 0.7639 - val_loss: 0.7800 - val_accuracy: 0.6667\n",
            "Epoch 87/100\n",
            "41/41 [==============================] - 0s 5ms/step - loss: 0.5692 - accuracy: 0.7793 - val_loss: 0.7690 - val_accuracy: 0.6667\n",
            "Epoch 88/100\n",
            "41/41 [==============================] - 0s 5ms/step - loss: 0.5827 - accuracy: 0.7778 - val_loss: 0.7748 - val_accuracy: 0.6620\n",
            "Epoch 89/100\n",
            "41/41 [==============================] - 0s 5ms/step - loss: 0.5359 - accuracy: 0.7994 - val_loss: 0.7776 - val_accuracy: 0.6713\n",
            "Epoch 90/100\n",
            "41/41 [==============================] - 0s 4ms/step - loss: 0.5378 - accuracy: 0.8102 - val_loss: 0.7799 - val_accuracy: 0.6481\n",
            "Epoch 91/100\n",
            "41/41 [==============================] - 0s 4ms/step - loss: 0.5416 - accuracy: 0.7778 - val_loss: 0.7638 - val_accuracy: 0.6759\n",
            "Epoch 92/100\n",
            "41/41 [==============================] - 0s 4ms/step - loss: 0.5630 - accuracy: 0.7870 - val_loss: 0.7900 - val_accuracy: 0.6759\n",
            "Epoch 93/100\n",
            "41/41 [==============================] - 0s 5ms/step - loss: 0.5575 - accuracy: 0.7917 - val_loss: 0.7617 - val_accuracy: 0.6620\n",
            "Epoch 94/100\n",
            "41/41 [==============================] - 0s 4ms/step - loss: 0.5408 - accuracy: 0.8086 - val_loss: 0.7749 - val_accuracy: 0.6574\n",
            "Epoch 95/100\n",
            "41/41 [==============================] - 0s 4ms/step - loss: 0.5582 - accuracy: 0.7762 - val_loss: 0.7631 - val_accuracy: 0.6806\n",
            "Epoch 96/100\n",
            "41/41 [==============================] - 0s 5ms/step - loss: 0.5341 - accuracy: 0.8009 - val_loss: 0.7807 - val_accuracy: 0.6806\n",
            "Epoch 97/100\n",
            "41/41 [==============================] - 0s 4ms/step - loss: 0.5364 - accuracy: 0.7978 - val_loss: 0.7735 - val_accuracy: 0.6852\n",
            "Epoch 98/100\n",
            "41/41 [==============================] - 0s 5ms/step - loss: 0.5544 - accuracy: 0.7716 - val_loss: 0.7632 - val_accuracy: 0.6852\n",
            "Epoch 99/100\n",
            "41/41 [==============================] - 0s 5ms/step - loss: 0.5008 - accuracy: 0.7994 - val_loss: 0.7640 - val_accuracy: 0.6806\n",
            "Epoch 100/100\n",
            "41/41 [==============================] - 0s 4ms/step - loss: 0.5522 - accuracy: 0.7855 - val_loss: 0.7555 - val_accuracy: 0.6620\n"
          ],
          "name": "stdout"
        }
      ]
    },
    {
      "cell_type": "code",
      "metadata": {
        "colab": {
          "base_uri": "https://localhost:8080/"
        },
        "id": "MvvvFTlI2jTK",
        "outputId": "b3e265b6-5789-45b6-9e01-e84e13627e3d"
      },
      "source": [
        "loss, accuracy = CNN_model.evaluate(X_train_dim, y_train, verbose=True)\n",
        "print(\"Training Accuracy: {:.4f}\".format(accuracy))\n",
        "loss, accuracy = CNN_model.evaluate(X_test_dim, y_test, verbose=False)\n",
        "print(\"Testing Accuracy:  {:.4f}\".format(accuracy))\n",
        "\n",
        "y_pred= CNN_model.predict(X_test_dim, batch_size=200, verbose=1)\n",
        "report = classification_report(y_test, y_pred.round())\n",
        "print(report)"
      ],
      "execution_count": 111,
      "outputs": [
        {
          "output_type": "stream",
          "text": [
            "21/21 [==============================] - 0s 2ms/step - loss: 0.3232 - accuracy: 0.9136\n",
            "Training Accuracy: 0.9136\n",
            "Testing Accuracy:  0.6620\n",
            "2/2 [==============================] - 0s 3ms/step\n",
            "              precision    recall  f1-score   support\n",
            "\n",
            "           0       0.89      0.82      0.86        51\n",
            "           1       0.68      0.70      0.69        46\n",
            "           2       0.70      0.70      0.70        44\n",
            "           3       0.70      0.27      0.39        26\n",
            "           4       0.71      0.41      0.52        49\n",
            "\n",
            "   micro avg       0.75      0.61      0.67       216\n",
            "   macro avg       0.74      0.58      0.63       216\n",
            "weighted avg       0.75      0.61      0.66       216\n",
            " samples avg       0.61      0.61      0.61       216\n",
            "\n"
          ],
          "name": "stdout"
        },
        {
          "output_type": "stream",
          "text": [
            "/usr/local/lib/python3.6/dist-packages/sklearn/metrics/_classification.py:1272: UndefinedMetricWarning: Precision and F-score are ill-defined and being set to 0.0 in samples with no predicted labels. Use `zero_division` parameter to control this behavior.\n",
            "  _warn_prf(average, modifier, msg_start, len(result))\n"
          ],
          "name": "stderr"
        }
      ]
    },
    {
      "cell_type": "code",
      "metadata": {
        "colab": {
          "base_uri": "https://localhost:8080/",
          "height": 295
        },
        "id": "hVOuf8cziPyD",
        "outputId": "94779c31-d608-4db9-f159-e5b0c5bf7509"
      },
      "source": [
        "plt.plot(history.history['accuracy'])\n",
        "plt.plot(history.history['val_accuracy'])\n",
        "plt.title('model accuracy')\n",
        "plt.ylabel('accuracy')\n",
        "plt.xlabel('epoch')\n",
        "plt.legend(['train', 'test'], loc='upper left')\n",
        "plt.show()"
      ],
      "execution_count": 112,
      "outputs": [
        {
          "output_type": "display_data",
          "data": {
            "image/png": "[encoded data removed]",
            "text/plain": [
              "<Figure size 432x288 with 1 Axes>"
            ]
          },
          "metadata": {
            "tags": [],
            "needs_background": "light"
          }
        }
      ]
    },
    {
      "cell_type": "code",
      "metadata": {
        "colab": {
          "base_uri": "https://localhost:8080/",
          "height": 295
        },
        "id": "3ub6oz3ViPyD",
        "outputId": "dc7b719f-64f6-4938-8154-402731ae67d4"
      },
      "source": [
        "plt.plot(history.history['loss'])\n",
        "plt.plot(history.history['val_loss'])\n",
        "plt.title('model loss')\n",
        "plt.ylabel('loss')\n",
        "plt.xlabel('epoch')\n",
        "plt.legend(['train', 'test'], loc='upper left')\n",
        "plt.show()"
      ],
      "execution_count": 113,
      "outputs": [
        {
          "output_type": "display_data",
          "data": {
            "image/png": "[encoded data removed]",
            "text/plain": [
              "<Figure size 432x288 with 1 Axes>"
            ]
          },
          "metadata": {
            "tags": [],
            "needs_background": "light"
          }
        }
      ]
    },
    {
      "cell_type": "markdown",
      "metadata": {
        "id": "KDYClWKAs-L3"
      },
      "source": [
        "# THE END"
      ]
    }
  ]
}
