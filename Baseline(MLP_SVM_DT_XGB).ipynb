{
  "nbformat": 4,
  "nbformat_minor": 0,
  "metadata": {
    "colab": {
      "name": "Baseline-(MLP, SVM, DT, XGB).ipynb",
      "provenance": [],
      "collapsed_sections": [],
      "include_colab_link": true
    },
    "kernelspec": {
      "name": "python3",
      "display_name": "Python 3"
    }
  },
  "cells": [
    {
      "cell_type": "markdown",
      "metadata": {
        "id": "view-in-github",
        "colab_type": "text"
      },
      "source": [
        "<a href=\"https://colab.research.google.com/github/Hutaf/Speech-Emotion-Recognition/blob/main/Baseline(MLP_SVM_DT_XGB).ipynb\" target=\"_parent\"><img src=\"https://colab.research.google.com/assets/colab-badge.svg\" alt=\"Open In Colab\"/></a>"
      ]
    },
    {
      "cell_type": "markdown",
      "metadata": {
        "id": "SKNo9RTBj1hA"
      },
      "source": [
        "#**Speech Emotion Recognition**\n",
        "## Baseline models\n",
        "\n"
      ]
    },
    {
      "cell_type": "markdown",
      "metadata": {
        "id": "nrH14Ttlo2EL"
      },
      "source": [
        "# Install following libraries"
      ]
    },
    {
      "cell_type": "code",
      "metadata": {
        "id": "spdyH1iXo5lB",
        "colab": {
          "base_uri": "https://localhost:8080/"
        },
        "outputId": "90c5e5d3-a744-44a1-bc7b-22f9e3dffdb0"
      },
      "source": [
        "!pip install librosa  \n",
        "!pip install soundfile\n",
        "!pip install pyaudio"
      ],
      "execution_count": 1,
      "outputs": [
        {
          "output_type": "stream",
          "text": [
            "Requirement already satisfied: librosa in /usr/local/lib/python3.6/dist-packages (0.6.3)\n",
            "Requirement already satisfied: decorator>=3.0.0 in /usr/local/lib/python3.6/dist-packages (from librosa) (4.4.2)\n",
            "Requirement already satisfied: scipy>=1.0.0 in /usr/local/lib/python3.6/dist-packages (from librosa) (1.4.1)\n",
            "Requirement already satisfied: six>=1.3 in /usr/local/lib/python3.6/dist-packages (from librosa) (1.15.0)\n",
            "Requirement already satisfied: audioread>=2.0.0 in /usr/local/lib/python3.6/dist-packages (from librosa) (2.1.9)\n",
            "Requirement already satisfied: scikit-learn!=0.19.0,>=0.14.0 in /usr/local/lib/python3.6/dist-packages (from librosa) (0.22.2.post1)\n",
            "Requirement already satisfied: numpy>=1.8.0 in /usr/local/lib/python3.6/dist-packages (from librosa) (1.18.5)\n",
            "Requirement already satisfied: joblib>=0.12 in /usr/local/lib/python3.6/dist-packages (from librosa) (0.17.0)\n",
            "Requirement already satisfied: resampy>=0.2.0 in /usr/local/lib/python3.6/dist-packages (from librosa) (0.2.2)\n",
            "Requirement already satisfied: numba>=0.38.0 in /usr/local/lib/python3.6/dist-packages (from librosa) (0.48.0)\n",
            "Requirement already satisfied: setuptools in /usr/local/lib/python3.6/dist-packages (from numba>=0.38.0->librosa) (50.3.2)\n",
            "Requirement already satisfied: llvmlite<0.32.0,>=0.31.0dev0 in /usr/local/lib/python3.6/dist-packages (from numba>=0.38.0->librosa) (0.31.0)\n",
            "Collecting soundfile\n",
            "  Downloading https://files.pythonhosted.org/packages/eb/f2/3cbbbf3b96fb9fa91582c438b574cff3f45b29c772f94c400e2c99ef5db9/SoundFile-0.10.3.post1-py2.py3-none-any.whl\n",
            "Requirement already satisfied: cffi>=1.0 in /usr/local/lib/python3.6/dist-packages (from soundfile) (1.14.3)\n",
            "Requirement already satisfied: pycparser in /usr/local/lib/python3.6/dist-packages (from cffi>=1.0->soundfile) (2.20)\n",
            "Installing collected packages: soundfile\n",
            "Successfully installed soundfile-0.10.3.post1\n",
            "Collecting pyaudio\n",
            "  Downloading https://files.pythonhosted.org/packages/ab/42/b4f04721c5c5bfc196ce156b3c768998ef8c0ae3654ed29ea5020c749a6b/PyAudio-0.2.11.tar.gz\n",
            "Building wheels for collected packages: pyaudio\n",
            "  Building wheel for pyaudio (setup.py) ... \u001b[?25lerror\n",
            "\u001b[31m  ERROR: Failed building wheel for pyaudio\u001b[0m\n",
            "\u001b[?25h  Running setup.py clean for pyaudio\n",
            "Failed to build pyaudio\n",
            "Installing collected packages: pyaudio\n",
            "    Running setup.py install for pyaudio ... \u001b[?25l\u001b[?25herror\n",
            "\u001b[31mERROR: Command errored out with exit status 1: /usr/bin/python3 -u -c 'import sys, setuptools, tokenize; sys.argv[0] = '\"'\"'/tmp/pip-install-37a57e_3/pyaudio/setup.py'\"'\"'; __file__='\"'\"'/tmp/pip-install-37a57e_3/pyaudio/setup.py'\"'\"';f=getattr(tokenize, '\"'\"'open'\"'\"', open)(__file__);code=f.read().replace('\"'\"'\\r\\n'\"'\"', '\"'\"'\\n'\"'\"');f.close();exec(compile(code, __file__, '\"'\"'exec'\"'\"'))' install --record /tmp/pip-record-9u1kixj1/install-record.txt --single-version-externally-managed --compile Check the logs for full command output.\u001b[0m\n"
          ],
          "name": "stdout"
        }
      ]
    },
    {
      "cell_type": "markdown",
      "metadata": {
        "id": "tqlY-_LUpD3l"
      },
      "source": [
        "# Import libraries "
      ]
    },
    {
      "cell_type": "code",
      "metadata": {
        "id": "3fyYSbcJjy7i"
      },
      "source": [
        "import librosa\n",
        "import librosa.display\n",
        "import soundfile\n",
        "import os, glob, pickle\n",
        "import numpy as np\n",
        "import pandas as pd\n",
        "\n",
        "import matplotlib.pyplot as plt\n",
        "import seaborn as sns\n",
        "\n",
        "from sklearn.svm import SVC \n",
        "from sklearn.tree import DecisionTreeClassifier \n",
        "from xgboost import XGBClassifier\n",
        "from sklearn.ensemble import RandomForestClassifier\n",
        "from sklearn.model_selection import train_test_split\n",
        "from sklearn.preprocessing import StandardScaler\n",
        "from sklearn.pipeline import Pipeline\n",
        "from sklearn.neural_network import MLPClassifier\n",
        "from sklearn.metrics import accuracy_score\n",
        "from sklearn.metrics import classification_report\n",
        "from sklearn.metrics import confusion_matrix\n",
        "\n",
        "import warnings\n",
        "warnings.filterwarnings(\"ignore\", category=DeprecationWarning) "
      ],
      "execution_count": 30,
      "outputs": []
    },
    {
      "cell_type": "markdown",
      "metadata": {
        "id": "ShlEahDIzwIf"
      },
      "source": [
        "# Exploratory Data Analysis"
      ]
    },
    {
      "cell_type": "code",
      "metadata": {
        "id": "dwB6D_vLpOoR"
      },
      "source": [
        "def extract_feature(file_name, mfcc, chroma, mel, tonnetz, contrast):\n",
        "        X, sample_rate = librosa.load(os.path.join(file_name), res_type='kaiser_fast')\n",
        "        result = np.array([])\n",
        "        if chroma or contrast:\n",
        "            stft = np.abs(librosa.stft(X))\n",
        "            result = np.array([])\n",
        "        if mfcc:\n",
        "            mfccs = np.mean(librosa.feature.mfcc(y=X, sr=sample_rate, n_mfcc=40).T, axis=0)\n",
        "            result = np.hstack((result, mfccs))\n",
        "        if chroma:\n",
        "            chroma = np.mean(librosa.feature.chroma_stft(S=stft, sr=sample_rate).T,axis=0)\n",
        "            result = np.hstack((result, chroma))\n",
        "        if mel:\n",
        "            mel = np.mean(librosa.feature.melspectrogram(X, sr=sample_rate).T,axis=0)\n",
        "            result = np.hstack((result, mel))\n",
        "        if contrast:\n",
        "            contrast = np.mean(librosa.feature.spectral_contrast(S=stft, sr=sample_rate).T,axis=0)\n",
        "            result = np.hstack((result, contrast))\n",
        "        if tonnetz:\n",
        "            tonnetz = np.mean(librosa.feature.tonnetz(y=librosa.effects.harmonic(X), sr=sample_rate).T,axis=0)\n",
        "            result = np.hstack((result, tonnetz))\n",
        "        return result"
      ],
      "execution_count": 4,
      "outputs": []
    },
    {
      "cell_type": "markdown",
      "metadata": {
        "id": "6xKzPyVcjvyT"
      },
      "source": [
        "Now, let’s define a dictionary to hold numbers and the emotions available in the RAVDESS, and a list to hold all emotions:\n",
        " 1. Neutral\n",
        " 2. Calm\n",
        " 3. Happy\n",
        " 4. Sad\n",
        " 5. Angry\n",
        " 6. Fearful\n",
        " 7. Disgust\n",
        " 8. Surprised "
      ]
    },
    {
      "cell_type": "code",
      "metadata": {
        "id": "EgwcKBQzpdgM"
      },
      "source": [
        "# Emotions in the RAVDESS dataset\n",
        "emotions={\n",
        "  '01':'neutral',\n",
        "  '02':'calm',\n",
        "  '03':'happy',\n",
        "  '04':'sad',\n",
        "  '05':'angry',\n",
        "  '06':'fearful',\n",
        "  '07':'disgust',\n",
        "  '08':'surprised'\n",
        "}\n",
        "# Emotions to observe\n",
        "observed_emotions = ['neutral','calm','angry', 'happy','disgust','sad','fearful','surprised']"
      ],
      "execution_count": 5,
      "outputs": []
    },
    {
      "cell_type": "markdown",
      "metadata": {
        "id": "2VjDiYuC3G-D"
      },
      "source": [
        "## Load the data and extract features for each sound file"
      ]
    },
    {
      "cell_type": "code",
      "metadata": {
        "id": "f2axyBFDqI1A"
      },
      "source": [
        "def load_data(test_size=0.2):\n",
        "    X,y=[],[]\n",
        "    for file in glob.glob('/content/drive/MyDrive/Data/Actor_*/*.wav'):\n",
        "        file_name=os.path.basename(file)\n",
        "        emotion=emotions[file_name.split(\"-\")[2]]\n",
        "       \n",
        "        # we allow only AVAILABLE_EMOTIONS we set\n",
        "        if emotion not in observed_emotions:\n",
        "            continue\n",
        "       \n",
        "         # extract speech features\n",
        "        feature=extract_feature(file, \n",
        "                                mfcc=True, \n",
        "                                chroma=True, \n",
        "                                mel=True, \n",
        "                                tonnetz=False, \n",
        "                                contrast=False)\n",
        "    \n",
        "        X.append(feature)\n",
        "        y.append(emotion)\n",
        "\n",
        "    return train_test_split(np.array(X), \n",
        "                            y, \n",
        "                            test_size = test_size,\n",
        "                            random_state=42)"
      ],
      "execution_count": 6,
      "outputs": []
    },
    {
      "cell_type": "markdown",
      "metadata": {
        "id": "OE49RH61jsY3"
      },
      "source": [
        "# Load the data"
      ]
    },
    {
      "cell_type": "code",
      "metadata": {
        "id": "V70OpTPDjrUj"
      },
      "source": [
        "filepath = 'https://raw.githubusercontent.com/Hutaf/Speech-Emotion-Recognition/main/Data/MFCC_Data.csv'\n",
        "data = pd.read_csv(filepath)"
      ],
      "execution_count": 4,
      "outputs": []
    },
    {
      "cell_type": "code",
      "metadata": {
        "colab": {
          "base_uri": "https://localhost:8080/"
        },
        "id": "76ohBT32kZi_",
        "outputId": "db2d00c5-a373-48eb-8db5-f1d24c26a447"
      },
      "source": [
        "print(data.head())"
      ],
      "execution_count": 5,
      "outputs": [
        {
          "output_type": "stream",
          "text": [
            "   Unnamed: 0           0          1  ...        38        39      0.1\n",
            "0           0 -536.606430  64.556708  ...  2.319079  0.520878     calm\n",
            "1           1 -544.708321  56.414519  ... -0.042497  0.889718  neutral\n",
            "2           2 -574.430922  56.297725  ...  1.244445  3.589855  neutral\n",
            "3           3 -553.569230  62.088209  ...  1.572597  2.003235  neutral\n",
            "4           4 -602.211476  56.717853  ...  4.953895  5.449686  neutral\n",
            "\n",
            "[5 rows x 42 columns]\n"
          ],
          "name": "stdout"
        }
      ]
    },
    {
      "cell_type": "code",
      "metadata": {
        "colab": {
          "base_uri": "https://localhost:8080/"
        },
        "id": "QgqkXUFqkjZ5",
        "outputId": "c7450a1c-f770-4d9b-f8a7-930e389def85"
      },
      "source": [
        "data.columns"
      ],
      "execution_count": 6,
      "outputs": [
        {
          "output_type": "execute_result",
          "data": {
            "text/plain": [
              "Index(['Unnamed: 0', '0', '1', '2', '3', '4', '5', '6', '7', '8', '9', '10',\n",
              "       '11', '12', '13', '14', '15', '16', '17', '18', '19', '20', '21', '22',\n",
              "       '23', '24', '25', '26', '27', '28', '29', '30', '31', '32', '33', '34',\n",
              "       '35', '36', '37', '38', '39', '0.1'],\n",
              "      dtype='object')"
            ]
          },
          "metadata": {
            "tags": []
          },
          "execution_count": 6
        }
      ]
    },
    {
      "cell_type": "code",
      "metadata": {
        "id": "VgcmLo_RknAj"
      },
      "source": [
        "data = data.drop('Unnamed: 0',axis=1)\n",
        "data = data.rename(columns = {'0.1': 'emotion'})"
      ],
      "execution_count": 7,
      "outputs": []
    },
    {
      "cell_type": "code",
      "metadata": {
        "colab": {
          "base_uri": "https://localhost:8080/"
        },
        "id": "cVKBa6Tbk8jJ",
        "outputId": "d448ad6f-2330-4b02-f8e9-44960ae624c7"
      },
      "source": [
        "data.columns"
      ],
      "execution_count": 8,
      "outputs": [
        {
          "output_type": "execute_result",
          "data": {
            "text/plain": [
              "Index(['0', '1', '2', '3', '4', '5', '6', '7', '8', '9', '10', '11', '12',\n",
              "       '13', '14', '15', '16', '17', '18', '19', '20', '21', '22', '23', '24',\n",
              "       '25', '26', '27', '28', '29', '30', '31', '32', '33', '34', '35', '36',\n",
              "       '37', '38', '39', 'emotion'],\n",
              "      dtype='object')"
            ]
          },
          "metadata": {
            "tags": []
          },
          "execution_count": 8
        }
      ]
    },
    {
      "cell_type": "markdown",
      "metadata": {
        "id": "wKhGTlqpqOAr"
      },
      "source": [
        "## Split the Dataset\n",
        "Time to split the dataset into training and testing sets! "
      ]
    },
    {
      "cell_type": "code",
      "metadata": {
        "id": "kTA6sCiAlHGd"
      },
      "source": [
        "# Features and target columns\n",
        "X = data.drop('emotion', axis = 1).values\n",
        "y = data['emotion'].values"
      ],
      "execution_count": 9,
      "outputs": []
    },
    {
      "cell_type": "code",
      "metadata": {
        "id": "a92bN5vAqRb2"
      },
      "source": [
        "# Split the dataset\n",
        "X_train, X_test, y_train, y_test= train_test_split(X, y, test_size=0.20)"
      ],
      "execution_count": 11,
      "outputs": []
    },
    {
      "cell_type": "markdown",
      "metadata": {
        "id": "46eeiQbYqT7p"
      },
      "source": [
        "###Observe the shape of the training and testing datasets:"
      ]
    },
    {
      "cell_type": "code",
      "metadata": {
        "id": "_MXFh4lwqYaC",
        "colab": {
          "base_uri": "https://localhost:8080/"
        },
        "outputId": "91f06028-7514-4b46-919c-58699cd43cad"
      },
      "source": [
        "# print some details\n",
        "# number of samples in training data\n",
        "print(\"[+] Number of training samples:\", X_train.shape[0])\n",
        "# number of samples in testing data\n",
        "print(\"[+] Number of testing samples:\", X_test.shape[0])"
      ],
      "execution_count": 12,
      "outputs": [
        {
          "output_type": "stream",
          "text": [
            "[+] Number of training samples: 1152\n",
            "[+] Number of testing samples: 288\n"
          ],
          "name": "stdout"
        }
      ]
    },
    {
      "cell_type": "markdown",
      "metadata": {
        "id": "xmwRPZe7qey5"
      },
      "source": [
        "### Number of features extracted."
      ]
    },
    {
      "cell_type": "code",
      "metadata": {
        "id": "H3C6czeDqgxX",
        "colab": {
          "base_uri": "https://localhost:8080/"
        },
        "outputId": "300652fd-52ea-4da9-dc0d-3d2f7064771d"
      },
      "source": [
        "# Get the number of features extracted\n",
        "print(f'Features extracted: {X_train.shape[1]}')"
      ],
      "execution_count": 13,
      "outputs": [
        {
          "output_type": "stream",
          "text": [
            "Features extracted: 40\n"
          ],
          "name": "stdout"
        }
      ]
    },
    {
      "cell_type": "markdown",
      "metadata": {
        "id": "YEvGnx7r3W7f"
      },
      "source": [
        "# Building MLP Classifier"
      ]
    },
    {
      "cell_type": "code",
      "metadata": {
        "id": "pvggD94ZqmAY",
        "colab": {
          "base_uri": "https://localhost:8080/"
        },
        "outputId": "6bdcaa73-ecc3-4f95-f032-1d3493940590"
      },
      "source": [
        "# Setup the pipeline steps: steps\n",
        "steps = [('scaler', StandardScaler()),\n",
        "        ('MLP', MLPClassifier(alpha=0.01, \n",
        "                              batch_size=256, \n",
        "                              epsilon=1e-08, \n",
        "                              hidden_layer_sizes=(300,),\n",
        "                              learning_rate='adaptive',\n",
        "                              max_iter=500))]\n",
        "        \n",
        "# Create the pipeline: pipeline\n",
        "pipeline = Pipeline(steps)\n",
        "\n",
        "# Fit the pipeline to the training set: mlp_scaled\n",
        "mlp_scaled = pipeline.fit(X_train, y_train)\n",
        "\n",
        "# Instantiate and fit a MLP classifier to the unscaled data\n",
        "mlp_unscaled =  MLPClassifier(alpha=0.01, \n",
        "                              batch_size=256, \n",
        "                              epsilon=1e-08, \n",
        "                              hidden_layer_sizes=(300,),\n",
        "                              learning_rate='adaptive',\n",
        "                              max_iter=500).fit(X_train, y_train)\n",
        "\n",
        "# Compute and print metrics\n",
        "print('Accuracy with Scaling: {}'.format(mlp_scaled.score(X_test, y_test)))\n",
        "print('Accuracy without Scaling: {}'.format(mlp_unscaled.score(X_test, y_test)))"
      ],
      "execution_count": 18,
      "outputs": [
        {
          "output_type": "stream",
          "text": [
            "Accuracy with Scaling: 0.65625\n",
            "Accuracy without Scaling: 0.4409722222222222\n"
          ],
          "name": "stdout"
        }
      ]
    },
    {
      "cell_type": "markdown",
      "metadata": {
        "id": "iDC7AkAt21EF"
      },
      "source": [
        "## Prediction"
      ]
    },
    {
      "cell_type": "markdown",
      "metadata": {
        "id": "D2Kzw2Emqt1p"
      },
      "source": [
        "Let’s predict the values for the test set. This gives us y_pred (the predicted emotions for the features in the test set)."
      ]
    },
    {
      "cell_type": "code",
      "metadata": {
        "id": "YNVNDVnBqw1z"
      },
      "source": [
        "# Predict for the test set\n",
        "y_pred = mlp_scaled.predict(X_test)"
      ],
      "execution_count": 22,
      "outputs": []
    },
    {
      "cell_type": "markdown",
      "metadata": {
        "id": "njU6Gs6jqzkg"
      },
      "source": [
        "To calculate the accuracy of our model, we’ll call up the accuracy_score() function we imported from sklearn. Finally, we’ll round the accuracy to 2 decimal places and print it out."
      ]
    },
    {
      "cell_type": "code",
      "metadata": {
        "id": "2xreI8SSq6Rc",
        "colab": {
          "base_uri": "https://localhost:8080/"
        },
        "outputId": "dc1f3325-bfaf-40c9-c203-e8659df921f1"
      },
      "source": [
        "print(classification_report(y_test,y_pred))"
      ],
      "execution_count": 23,
      "outputs": [
        {
          "output_type": "stream",
          "text": [
            "              precision    recall  f1-score   support\n",
            "\n",
            "       angry       0.75      0.88      0.81        43\n",
            "        calm       0.75      0.75      0.75        40\n",
            "     disgust       0.62      0.64      0.63        36\n",
            "     fearful       0.62      0.65      0.63        40\n",
            "       happy       0.58      0.56      0.57        32\n",
            "     neutral       0.42      0.53      0.47        15\n",
            "         sad       0.66      0.45      0.54        42\n",
            "   surprised       0.69      0.68      0.68        40\n",
            "\n",
            "    accuracy                           0.66       288\n",
            "   macro avg       0.64      0.64      0.64       288\n",
            "weighted avg       0.66      0.66      0.65       288\n",
            "\n"
          ],
          "name": "stdout"
        }
      ]
    },
    {
      "cell_type": "markdown",
      "metadata": {
        "id": "KZZZBmK32ksS"
      },
      "source": [
        "## Confusion Matrix"
      ]
    },
    {
      "cell_type": "code",
      "metadata": {
        "id": "Y2IEjtiTtl-f",
        "colab": {
          "base_uri": "https://localhost:8080/",
          "height": 283
        },
        "outputId": "887d0b8a-9536-4d84-afab-4846aa49d31f"
      },
      "source": [
        "matrix = confusion_matrix(y_test,y_pred)\n",
        "sns.heatmap(matrix, annot= True)"
      ],
      "execution_count": 24,
      "outputs": [
        {
          "output_type": "execute_result",
          "data": {
            "text/plain": [
              "<matplotlib.axes._subplots.AxesSubplot at 0x7f2b85435cc0>"
            ]
          },
          "metadata": {
            "tags": []
          },
          "execution_count": 24
        },
        {
          "output_type": "display_data",
          "data": {
            "image/png": "[encoded data removed]",
            "text/plain": [
              "<Figure size 432x288 with 2 Axes>"
            ]
          },
          "metadata": {
            "tags": [],
            "needs_background": "light"
          }
        }
      ]
    },
    {
      "cell_type": "markdown",
      "metadata": {
        "id": "DswSuYeljcKB"
      },
      "source": [
        "# Building Decision Tree Classifier"
      ]
    },
    {
      "cell_type": "code",
      "metadata": {
        "id": "ssHixViKf9yq",
        "colab": {
          "base_uri": "https://localhost:8080/"
        },
        "outputId": "a6c8df9e-08a4-4d55-abd3-2a008832b90a"
      },
      "source": [
        "# Setup the pipeline steps: steps\n",
        "steps = [('scaler', StandardScaler()),\n",
        "        ('DT', DecisionTreeClassifier(max_depth = 6))]\n",
        "        \n",
        "# Create the pipeline: pipeline\n",
        "pipeline = Pipeline(steps)\n",
        "\n",
        "# Fit the pipeline to the training set\n",
        "dt_scaled = pipeline.fit(X_train, y_train)\n",
        "\n",
        "# Instantiate and fit a classifier to the unscaled data\n",
        "dt_unscaled = DecisionTreeClassifier(max_depth = 6).fit(X_train, y_train)\n",
        "\n",
        "# Compute and print metrics\n",
        "print('Accuracy with Scaling: {}'.format(dt_scaled.score(X_test, y_test)))\n",
        "print('Accuracy without Scaling: {}'.format(dt_unscaled.score(X_test, y_test)))"
      ],
      "execution_count": 25,
      "outputs": [
        {
          "output_type": "stream",
          "text": [
            "Accuracy with Scaling: 0.3298611111111111\n",
            "Accuracy without Scaling: 0.3368055555555556\n"
          ],
          "name": "stdout"
        }
      ]
    },
    {
      "cell_type": "markdown",
      "metadata": {
        "id": "tOiLlAsKjoHT"
      },
      "source": [
        "## Predictions"
      ]
    },
    {
      "cell_type": "code",
      "metadata": {
        "colab": {
          "base_uri": "https://localhost:8080/"
        },
        "id": "fN8_AxKNjkKL",
        "outputId": "0e3a1bb1-e389-474d-ac6f-be993b9e472b"
      },
      "source": [
        "dtree_predictions = dt_unscaled.predict(X_test) \n",
        "print(classification_report(y_test,dtree_predictions)) "
      ],
      "execution_count": 27,
      "outputs": [
        {
          "output_type": "stream",
          "text": [
            "              precision    recall  f1-score   support\n",
            "\n",
            "       angry       0.62      0.49      0.55        43\n",
            "        calm       0.33      0.60      0.42        40\n",
            "     disgust       0.22      0.19      0.21        36\n",
            "     fearful       0.39      0.33      0.36        40\n",
            "       happy       0.38      0.09      0.15        32\n",
            "     neutral       0.17      0.13      0.15        15\n",
            "         sad       0.26      0.24      0.25        42\n",
            "   surprised       0.29      0.42      0.35        40\n",
            "\n",
            "    accuracy                           0.34       288\n",
            "   macro avg       0.33      0.31      0.30       288\n",
            "weighted avg       0.35      0.34      0.32       288\n",
            "\n"
          ],
          "name": "stdout"
        }
      ]
    },
    {
      "cell_type": "markdown",
      "metadata": {
        "id": "e7mXJ9_XkGml"
      },
      "source": [
        "## Confusion Matrix"
      ]
    },
    {
      "cell_type": "code",
      "metadata": {
        "colab": {
          "base_uri": "https://localhost:8080/",
          "height": 283
        },
        "id": "yB1L2Ze3kGml",
        "outputId": "8228386a-5d70-42ed-c449-05628766c4e6"
      },
      "source": [
        "matrix = confusion_matrix(y_test, dtree_predictions)\n",
        "sns.heatmap(matrix, annot= True)"
      ],
      "execution_count": 28,
      "outputs": [
        {
          "output_type": "execute_result",
          "data": {
            "text/plain": [
              "<matplotlib.axes._subplots.AxesSubplot at 0x7f2b82ae3a90>"
            ]
          },
          "metadata": {
            "tags": []
          },
          "execution_count": 28
        },
        {
          "output_type": "display_data",
          "data": {
            "image/png": "[encoded data removed]",
            "text/plain": [
              "<Figure size 432x288 with 2 Axes>"
            ]
          },
          "metadata": {
            "tags": [],
            "needs_background": "light"
          }
        }
      ]
    },
    {
      "cell_type": "markdown",
      "metadata": {
        "id": "aEaJhRY_nsGy"
      },
      "source": [
        "# Building XGB Classifier"
      ]
    },
    {
      "cell_type": "code",
      "metadata": {
        "colab": {
          "base_uri": "https://localhost:8080/"
        },
        "id": "6qiHRISfoYl4",
        "outputId": "b6eab705-48f9-410b-9aff-659a623422b3"
      },
      "source": [
        "# Setup the pipeline steps: steps\n",
        "steps = [('scaler', StandardScaler()),\n",
        "        ('xgb', XGBClassifier())]\n",
        "        \n",
        "# Create the pipeline: pipeline\n",
        "pipeline = Pipeline(steps)\n",
        "\n",
        "# Fit the pipeline to the training set\n",
        "xgb_scaled = pipeline.fit(X_train, y_train)\n",
        "\n",
        "# Instantiate and fit a classifier to the unscaled data\n",
        "xgb_unscaled = XGBClassifier().fit(X_train, y_train)\n",
        "\n",
        "# Compute and print metrics\n",
        "print('Accuracy with Scaling: {}'.format(xgb_scaled.score(X_test, y_test)))\n",
        "print('Accuracy without Scaling: {}'.format(xgb_unscaled.score(X_test, y_test)))"
      ],
      "execution_count": 31,
      "outputs": [
        {
          "output_type": "stream",
          "text": [
            "Accuracy with Scaling: 0.5381944444444444\n",
            "Accuracy without Scaling: 0.5381944444444444\n"
          ],
          "name": "stdout"
        }
      ]
    },
    {
      "cell_type": "markdown",
      "metadata": {
        "id": "pkykVY2uoYl5"
      },
      "source": [
        "## Predictions"
      ]
    },
    {
      "cell_type": "code",
      "metadata": {
        "colab": {
          "base_uri": "https://localhost:8080/"
        },
        "id": "x3t-sbl-oYl5",
        "outputId": "a840e3cf-5ed9-41bf-e8a7-7f9016421693"
      },
      "source": [
        "xgb_predictions = xgb_scaled.predict(X_test) \n",
        "print(classification_report(y_test,xgb_predictions)) "
      ],
      "execution_count": 33,
      "outputs": [
        {
          "output_type": "stream",
          "text": [
            "              precision    recall  f1-score   support\n",
            "\n",
            "       angry       0.69      0.81      0.74        43\n",
            "        calm       0.60      0.75      0.67        40\n",
            "     disgust       0.39      0.42      0.41        36\n",
            "     fearful       0.50      0.55      0.52        40\n",
            "       happy       0.47      0.44      0.45        32\n",
            "     neutral       0.23      0.20      0.21        15\n",
            "         sad       0.59      0.31      0.41        42\n",
            "   surprised       0.57      0.57      0.57        40\n",
            "\n",
            "    accuracy                           0.54       288\n",
            "   macro avg       0.51      0.51      0.50       288\n",
            "weighted avg       0.53      0.54      0.53       288\n",
            "\n"
          ],
          "name": "stdout"
        }
      ]
    },
    {
      "cell_type": "markdown",
      "metadata": {
        "id": "9Awc_bjQoYl6"
      },
      "source": [
        "## Confusion Matrix"
      ]
    },
    {
      "cell_type": "code",
      "metadata": {
        "colab": {
          "base_uri": "https://localhost:8080/",
          "height": 287
        },
        "id": "sobzev6joYl6",
        "outputId": "5e6f203c-d7dc-466c-cd43-d045aa76900c"
      },
      "source": [
        "matrix = confusion_matrix(y_test, xgb_predictions)\n",
        "sns.heatmap(matrix, annot= True)"
      ],
      "execution_count": 34,
      "outputs": [
        {
          "output_type": "execute_result",
          "data": {
            "text/plain": [
              "<matplotlib.axes._subplots.AxesSubplot at 0x7f2b82368e48>"
            ]
          },
          "metadata": {
            "tags": []
          },
          "execution_count": 34
        },
        {
          "output_type": "display_data",
          "data": {
            "image/png": "[encoded data removed]",
            "text/plain": [
              "<Figure size 432x288 with 2 Axes>"
            ]
          },
          "metadata": {
            "tags": [],
            "needs_background": "light"
          }
        }
      ]
    },
    {
      "cell_type": "markdown",
      "metadata": {
        "id": "2DhxJIj-kRI-"
      },
      "source": [
        "# Building SVM Classifier"
      ]
    },
    {
      "cell_type": "code",
      "metadata": {
        "id": "u4j5HQYEkRI-",
        "colab": {
          "base_uri": "https://localhost:8080/"
        },
        "outputId": "126d2e95-852c-4014-b887-e5d47899f935"
      },
      "source": [
        "# Setup the pipeline steps: steps\n",
        "steps = [('scaler', StandardScaler()),\n",
        "        ('SVM', SVC())]\n",
        "        \n",
        "# Create the pipeline: pipeline\n",
        "pipeline = Pipeline(steps)\n",
        "\n",
        "# Fit the pipeline to the training set: svc_scaled\n",
        "svc_scaled = pipeline.fit(X_train, y_train)\n",
        "\n",
        "# Instantiate and fit a classifier to the unscaled data\n",
        "svc_unscaled = SVC(kernel = 'linear').fit(X_train, y_train)\n",
        "\n",
        "# Compute and print metrics\n",
        "print('Accuracy with Scaling: {}'.format(svc_scaled.score(X_test, y_test)))\n",
        "print('Accuracy without Scaling: {}'.format(svc_unscaled.score(X_test, y_test)))"
      ],
      "execution_count": 35,
      "outputs": [
        {
          "output_type": "stream",
          "text": [
            "Accuracy with Scaling: 0.5833333333333334\n",
            "Accuracy without Scaling: 0.5104166666666666\n"
          ],
          "name": "stdout"
        }
      ]
    },
    {
      "cell_type": "markdown",
      "metadata": {
        "id": "oI_DvalJkRI_"
      },
      "source": [
        "## Predictions"
      ]
    },
    {
      "cell_type": "code",
      "metadata": {
        "colab": {
          "base_uri": "https://localhost:8080/"
        },
        "id": "-SA4WgY9kRI_",
        "outputId": "da67a634-8e32-449c-ec85-cbad5026b188"
      },
      "source": [
        "svm_predictions = svc_scaled.predict(X_test) \n",
        "print(classification_report(y_test,svm_predictions)) "
      ],
      "execution_count": 36,
      "outputs": [
        {
          "output_type": "stream",
          "text": [
            "              precision    recall  f1-score   support\n",
            "\n",
            "       angry       0.79      0.70      0.74        43\n",
            "        calm       0.62      0.78      0.69        40\n",
            "     disgust       0.49      0.56      0.52        36\n",
            "     fearful       0.55      0.65      0.60        40\n",
            "       happy       0.55      0.38      0.44        32\n",
            "     neutral       0.50      0.13      0.21        15\n",
            "         sad       0.54      0.45      0.49        42\n",
            "   surprised       0.55      0.70      0.62        40\n",
            "\n",
            "    accuracy                           0.58       288\n",
            "   macro avg       0.57      0.54      0.54       288\n",
            "weighted avg       0.58      0.58      0.57       288\n",
            "\n"
          ],
          "name": "stdout"
        }
      ]
    },
    {
      "cell_type": "markdown",
      "metadata": {
        "id": "l5gTjyGMkRI_"
      },
      "source": [
        "## Confusion Matrix"
      ]
    },
    {
      "cell_type": "code",
      "metadata": {
        "colab": {
          "base_uri": "https://localhost:8080/",
          "height": 283
        },
        "id": "wt6rhPmvkRI_",
        "outputId": "9050e245-29e7-443f-a4b5-d26ce54d13f5"
      },
      "source": [
        "matrix = confusion_matrix(y_test, svm_predictions)\n",
        "sns.heatmap(matrix, annot= True)"
      ],
      "execution_count": 37,
      "outputs": [
        {
          "output_type": "execute_result",
          "data": {
            "text/plain": [
              "<matplotlib.axes._subplots.AxesSubplot at 0x7f2b82312a58>"
            ]
          },
          "metadata": {
            "tags": []
          },
          "execution_count": 37
        },
        {
          "output_type": "display_data",
          "data": {
            "image/png": "[encoded data removed]",
            "text/plain": [
              "<Figure size 432x288 with 2 Axes>"
            ]
          },
          "metadata": {
            "tags": [],
            "needs_background": "light"
          }
        }
      ]
    },
    {
      "cell_type": "markdown",
      "metadata": {
        "id": "KDYClWKAs-L3"
      },
      "source": [
        "# THE END"
      ]
    }
  ]
}